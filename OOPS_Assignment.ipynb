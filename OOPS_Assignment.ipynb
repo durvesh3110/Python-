{
  "cells": [
    {
      "cell_type": "markdown",
      "id": "9263c51e",
      "metadata": {
        "id": "9263c51e"
      },
      "source": [
        "## ***Theory Questions***"
      ]
    },
    {
      "cell_type": "markdown",
      "id": "4a2fd613",
      "metadata": {
        "id": "4a2fd613"
      },
      "source": [
        "**Q: What is Object-Oriented Programming (OOP)**\n",
        "\n",
        "A: Object-Oriented Programming (OOP) is a programming paradigm that organizes software design around objects, which are instances of classes. It emphasizes concepts like encapsulation, inheritance, polymorphism, and abstraction."
      ]
    },
    {
      "cell_type": "markdown",
      "id": "29bcd329",
      "metadata": {
        "id": "29bcd329"
      },
      "source": [
        "**Q: What is a class in OOP**\n",
        "\n",
        "A: A class is a blueprint for creating objects. It defines attributes (variables) and methods (functions) that the created objects will have."
      ]
    },
    {
      "cell_type": "markdown",
      "id": "71c53b18",
      "metadata": {
        "id": "71c53b18"
      },
      "source": [
        "**Q: What is an object in OOP**\n",
        "\n",
        "A: An object is an instance of a class. It represents a real-world entity with state (attributes) and behavior (methods)."
      ]
    },
    {
      "cell_type": "markdown",
      "id": "55eefa8b",
      "metadata": {
        "id": "55eefa8b"
      },
      "source": [
        "**Q: What is the difference between abstraction and encapsulation**\n",
        "\n",
        "A: Abstraction focuses on hiding implementation details and showing only the essential features, while encapsulation is the process of wrapping data and methods into a single unit and controlling access using access modifiers."
      ]
    },
    {
      "cell_type": "markdown",
      "id": "a8b7bc08",
      "metadata": {
        "id": "a8b7bc08"
      },
      "source": [
        "**Q: What are dunder methods in Python**\n",
        "\n",
        "A: Dunder methods (double underscore methods) are special methods in Python, like `__init__`, `__str__`, and `__add__`, that enable operator overloading and customization of object behavior."
      ]
    },
    {
      "cell_type": "markdown",
      "id": "bb7a896d",
      "metadata": {
        "id": "bb7a896d"
      },
      "source": [
        "**Q: Explain the concept of inheritance in OOP**\n",
        "\n",
        "A: Inheritance allows one class (child) to acquire properties and behaviors of another class (parent), promoting code reusability and hierarchy."
      ]
    },
    {
      "cell_type": "markdown",
      "id": "8059c50c",
      "metadata": {
        "id": "8059c50c"
      },
      "source": [
        "**Q: What is polymorphism in OOP**\n",
        "\n",
        "A: Polymorphism allows objects of different classes to be treated as objects of a common superclass. It enables methods with the same name to behave differently based on the object."
      ]
    },
    {
      "cell_type": "markdown",
      "id": "b34ae457",
      "metadata": {
        "id": "b34ae457"
      },
      "source": [
        "**Q: How is encapsulation achieved in Python**\n",
        "\n",
        "A: Encapsulation is achieved by defining class attributes as private (using `_` or `__` prefixes) and providing getter and setter methods to access or modify them."
      ]
    },
    {
      "cell_type": "markdown",
      "id": "2c77c542",
      "metadata": {
        "id": "2c77c542"
      },
      "source": [
        "**Q: What is a constructor in Python**\n",
        "\n",
        "A: A constructor is a special method `__init__` in Python that is automatically called when an object is created, used to initialize attributes."
      ]
    },
    {
      "cell_type": "markdown",
      "id": "c79ebfc0",
      "metadata": {
        "id": "c79ebfc0"
      },
      "source": [
        "**Q: What are class and static methods in Python**\n",
        "\n",
        "A: Class methods use `@classmethod` and take `cls` as a parameter, affecting the class as a whole. Static methods use `@staticmethod` and don’t require `self` or `cls`, behaving like normal functions inside a class."
      ]
    },
    {
      "cell_type": "markdown",
      "id": "441aea88",
      "metadata": {
        "id": "441aea88"
      },
      "source": [
        "**Q: What is method overloading in Python**\n",
        "\n",
        "A: Python doesn’t support traditional method overloading. Instead, it can be achieved by using default arguments or variable-length arguments in a method."
      ]
    },
    {
      "cell_type": "markdown",
      "id": "a75851c7",
      "metadata": {
        "id": "a75851c7"
      },
      "source": [
        "**Q: What is method overriding in OOP**\n",
        "\n",
        "A: Method overriding occurs when a child class provides its own implementation of a method that is already defined in the parent class."
      ]
    },
    {
      "cell_type": "markdown",
      "id": "74dac7da",
      "metadata": {
        "id": "74dac7da"
      },
      "source": [
        "**Q: What is a property decorator in Python**\n",
        "\n",
        "A: The `@property` decorator is used to define methods that can be accessed like attributes, enabling controlled attribute access."
      ]
    },
    {
      "cell_type": "markdown",
      "id": "87926b25",
      "metadata": {
        "id": "87926b25"
      },
      "source": [
        "**Q: Why is polymorphism important in OOP**\n",
        "\n",
        "A: Polymorphism increases flexibility and reusability by allowing the same method or interface to work with different types of objects."
      ]
    },
    {
      "cell_type": "markdown",
      "id": "1b9f9cba",
      "metadata": {
        "id": "1b9f9cba"
      },
      "source": [
        "**Q: What is an abstract class in Python**\n",
        "\n",
        "A: An abstract class is a class that cannot be instantiated and may contain abstract methods (defined with `@abstractmethod`) that must be implemented by subclasses."
      ]
    },
    {
      "cell_type": "markdown",
      "id": "2532167f",
      "metadata": {
        "id": "2532167f"
      },
      "source": [
        "**Q: What are the advantages of OOP**\n",
        "\n",
        "A: OOP promotes code reusability, modularity, easier maintenance, scalability, and helps model real-world problems effectively."
      ]
    },
    {
      "cell_type": "markdown",
      "id": "5e4e6b6a",
      "metadata": {
        "id": "5e4e6b6a"
      },
      "source": [
        "**Q: What is the difference between a class variable and an instance variable**\n",
        "\n",
        "A: Class variables are shared across all instances of a class, while instance variables are unique to each object."
      ]
    },
    {
      "cell_type": "markdown",
      "id": "9da62c57",
      "metadata": {
        "id": "9da62c57"
      },
      "source": [
        "**Q: What is multiple inheritance in Python**\n",
        "\n",
        "A: Multiple inheritance allows a class to inherit from more than one parent class, combining behaviors and attributes from multiple sources."
      ]
    },
    {
      "cell_type": "markdown",
      "id": "d844895c",
      "metadata": {
        "id": "d844895c"
      },
      "source": [
        "**Q: Explain the purpose of `__str__` and `__repr__` methods in Python**\n",
        "\n",
        "A: `__str__` defines the human-readable string representation of an object, while `__repr__` provides the official string representation, mainly for debugging."
      ]
    },
    {
      "cell_type": "markdown",
      "id": "a81e60eb",
      "metadata": {
        "id": "a81e60eb"
      },
      "source": [
        "**Q: What is the significance of the `super()` function in Python**\n",
        "\n",
        "A: The `super()` function allows a child class to call methods of its parent class, useful in inheritance for reusing parent functionality."
      ]
    },
    {
      "cell_type": "markdown",
      "id": "1facdffb",
      "metadata": {
        "id": "1facdffb"
      },
      "source": [
        "**Q: What is the significance of the `__del__` method in Python**\n",
        "\n",
        "A: `__del__` is a destructor method called when an object is about to be destroyed, used for cleanup tasks."
      ]
    },
    {
      "cell_type": "markdown",
      "id": "051b8e69",
      "metadata": {
        "id": "051b8e69"
      },
      "source": [
        "**Q: What is the difference between @staticmethod and @classmethod in Python**\n",
        "\n",
        "A: `@staticmethod` does not take `self` or `cls` and behaves like a normal function in a class, while `@classmethod` takes `cls` and can modify class-level data."
      ]
    },
    {
      "cell_type": "markdown",
      "id": "7a290d4f",
      "metadata": {
        "id": "7a290d4f"
      },
      "source": [
        "**Q: How does polymorphism work in Python with inheritance**\n",
        "\n",
        "A: In inheritance, polymorphism allows child classes to override parent methods so that the same method name can have different implementations depending on the object."
      ]
    },
    {
      "cell_type": "markdown",
      "id": "05fe836f",
      "metadata": {
        "id": "05fe836f"
      },
      "source": [
        "**Q: What is method chaining in Python OOP**\n",
        "\n",
        "A: Method chaining is calling multiple methods on the same object in a single statement by returning `self` from methods."
      ]
    },
    {
      "cell_type": "markdown",
      "id": "81365e9a",
      "metadata": {
        "id": "81365e9a"
      },
      "source": [
        "**Q: What is the purpose of the `__call__` method in Python**\n",
        "\n",
        "A: `__call__` makes an object callable like a function. If defined, the object can be used with parentheses to execute the method."
      ]
    },
    {
      "cell_type": "markdown",
      "id": "9ffb054a",
      "metadata": {
        "id": "9ffb054a"
      },
      "source": [
        "## Practical Coding Questions"
      ]
    },
    {
      "cell_type": "markdown",
      "id": "58ccba5b",
      "metadata": {
        "id": "58ccba5b"
      },
      "source": [
        " 1. Create a parent class Animal with a method speak() that prints a generic message. Create a child class Dog that overrides the speak() method to print \"Bark!\"."
      ]
    },
    {
      "cell_type": "code",
      "execution_count": 2,
      "id": "81014e1a",
      "metadata": {
        "colab": {
          "base_uri": "https://localhost:8080/"
        },
        "id": "81014e1a",
        "outputId": "77715ffb-172f-4e0d-db12-91ea01cfcb7d"
      },
      "outputs": [
        {
          "output_type": "stream",
          "name": "stdout",
          "text": [
            "Bark!\n"
          ]
        }
      ],
      "source": [
        "class Animal:\n",
        "    def speak(self):\n",
        "        print(\"Generic animal sound\")\n",
        "\n",
        "class Dog(Animal):\n",
        "    def speak(self):\n",
        "        print(\"Bark!\")\n",
        "\n",
        "d = Dog()\n",
        "d.speak()"
      ]
    },
    {
      "cell_type": "markdown",
      "id": "1425fb18",
      "metadata": {
        "id": "1425fb18"
      },
      "source": [
        " 2. Write a program to create an abstract class Shape with a method area(). Derive classes Circle and Rectangle from it and implement the area() method in both."
      ]
    },
    {
      "cell_type": "code",
      "execution_count": 3,
      "id": "408545d9",
      "metadata": {
        "colab": {
          "base_uri": "https://localhost:8080/"
        },
        "id": "408545d9",
        "outputId": "40e406db-51c2-40a3-9083-5064d86c7b46"
      },
      "outputs": [
        {
          "output_type": "stream",
          "name": "stdout",
          "text": [
            "Circle area: 78.5\n",
            "Rectangle area: 24\n"
          ]
        }
      ],
      "source": [
        "from abc import ABC, abstractmethod\n",
        "\n",
        "class Shape(ABC):\n",
        "    @abstractmethod\n",
        "    def area(self):\n",
        "        pass\n",
        "\n",
        "class Circle(Shape):\n",
        "    def __init__(self, radius):\n",
        "        self.radius = radius\n",
        "    def area(self):\n",
        "        return 3.14 * self.radius * self.radius\n",
        "\n",
        "class Rectangle(Shape):\n",
        "    def __init__(self, length, width):\n",
        "        self.length = length\n",
        "        self.width = width\n",
        "    def area(self):\n",
        "        return self.length * self.width\n",
        "\n",
        "c = Circle(5)\n",
        "r = Rectangle(4, 6)\n",
        "print(\"Circle area:\", c.area())\n",
        "print(\"Rectangle area:\", r.area())"
      ]
    },
    {
      "cell_type": "markdown",
      "id": "1fa6eb66",
      "metadata": {
        "id": "1fa6eb66"
      },
      "source": [
        " 3. Implement a multi-level inheritance scenario where a class Vehicle has an attribute type. Derive a class Car and further derive a class ElectricCar that adds a battery attribute."
      ]
    },
    {
      "cell_type": "code",
      "execution_count": 5,
      "id": "b6628969",
      "metadata": {
        "colab": {
          "base_uri": "https://localhost:8080/"
        },
        "id": "b6628969",
        "outputId": "bc0270f5-2958-439e-9e58-8b98d595470e"
      },
      "outputs": [
        {
          "output_type": "stream",
          "name": "stdout",
          "text": [
            "Four-wheeler Tesla 100kWh\n"
          ]
        }
      ],
      "source": [
        "class Vehicle:\n",
        "    def __init__(self, vehicle_type):\n",
        "        self.type = vehicle_type\n",
        "\n",
        "class Car(Vehicle):\n",
        "    def __init__(self, vehicle_type, brand):\n",
        "        super().__init__(vehicle_type)\n",
        "        self.brand = brand\n",
        "\n",
        "class ElectricCar(Car):\n",
        "    def __init__(self, vehicle_type, brand, battery):\n",
        "        super().__init__(vehicle_type, brand)\n",
        "        self.battery = battery\n",
        "\n",
        "e = ElectricCar(\"Four-wheeler\", \"Tesla\", \"100kWh\")\n",
        "print(e.type, e.brand, e.battery)"
      ]
    },
    {
      "cell_type": "markdown",
      "id": "a5826ed2",
      "metadata": {
        "id": "a5826ed2"
      },
      "source": [
        " 4. Demonstrate polymorphism by creating a base class Bird with a method fly(). Create two derived classes Sparrow and Penguin that override the fly() method."
      ]
    },
    {
      "cell_type": "code",
      "execution_count": 6,
      "id": "3bb758ca",
      "metadata": {
        "colab": {
          "base_uri": "https://localhost:8080/"
        },
        "id": "3bb758ca",
        "outputId": "a6765814-3bdc-46fd-dc0e-7446795d0112"
      },
      "outputs": [
        {
          "output_type": "stream",
          "name": "stdout",
          "text": [
            "Sparrow flies high\n",
            "Penguins cannot fly\n"
          ]
        }
      ],
      "source": [
        "class Bird:\n",
        "    def fly(self):\n",
        "        print(\"Some birds can fly\")\n",
        "\n",
        "class Sparrow(Bird):\n",
        "    def fly(self):\n",
        "        print(\"Sparrow flies high\")\n",
        "\n",
        "class Penguin(Bird):\n",
        "    def fly(self):\n",
        "        print(\"Penguins cannot fly\")\n",
        "\n",
        "b1 = Sparrow()\n",
        "b2 = Penguin()\n",
        "b1.fly()\n",
        "b2.fly()"
      ]
    },
    {
      "cell_type": "markdown",
      "id": "0ce97c9d",
      "metadata": {
        "id": "0ce97c9d"
      },
      "source": [
        "5. Write a program to demonstrate encapsulation by creating a class BankAccount with private attributes\n",
        "balance and methods to deposit, withdraw, and check balance."
      ]
    },
    {
      "cell_type": "code",
      "execution_count": 7,
      "id": "c415c3ce",
      "metadata": {
        "colab": {
          "base_uri": "https://localhost:8080/"
        },
        "id": "c415c3ce",
        "outputId": "8c59fabc-ca42-4264-a8b1-c05d793822d0"
      },
      "outputs": [
        {
          "output_type": "stream",
          "name": "stdout",
          "text": [
            "Balance: 120\n"
          ]
        }
      ],
      "source": [
        "class BankAccount:\n",
        "    def __init__(self, balance=0):\n",
        "        self.__balance = balance\n",
        "\n",
        "    def deposit(self, amount):\n",
        "        self.__balance += amount\n",
        "\n",
        "    def withdraw(self, amount):\n",
        "        if amount <= self.__balance:\n",
        "            self.__balance -= amount\n",
        "        else:\n",
        "            print(\"Insufficient funds\")\n",
        "\n",
        "    def get_balance(self):\n",
        "        return self.__balance\n",
        "\n",
        "acc = BankAccount(100)\n",
        "acc.deposit(50)\n",
        "acc.withdraw(30)\n",
        "print(\"Balance:\", acc.get_balance())"
      ]
    },
    {
      "cell_type": "markdown",
      "id": "c6120481",
      "metadata": {
        "id": "c6120481"
      },
      "source": [
        " 6. Demonstrate runtime polymorphism using a method play() in a base class Instrument. Derive classes Guitar\n",
        "and Piano that implement their own version of play()."
      ]
    },
    {
      "cell_type": "code",
      "execution_count": 8,
      "id": "c257a60f",
      "metadata": {
        "colab": {
          "base_uri": "https://localhost:8080/"
        },
        "id": "c257a60f",
        "outputId": "b66526ef-7f58-4ad9-c6f3-9eca0a8098f0"
      },
      "outputs": [
        {
          "output_type": "stream",
          "name": "stdout",
          "text": [
            "Strumming the guitar\n",
            "Playing the piano\n"
          ]
        }
      ],
      "source": [
        "class Instrument:\n",
        "    def play(self):\n",
        "        print(\"Playing an instrument\")\n",
        "\n",
        "class Guitar(Instrument):\n",
        "    def play(self):\n",
        "        print(\"Strumming the guitar\")\n",
        "\n",
        "class Piano(Instrument):\n",
        "    def play(self):\n",
        "        print(\"Playing the piano\")\n",
        "\n",
        "i1 = Guitar()\n",
        "i2 = Piano()\n",
        "i1.play()\n",
        "i2.play()"
      ]
    },
    {
      "cell_type": "markdown",
      "id": "15d9bd5f",
      "metadata": {
        "id": "15d9bd5f"
      },
      "source": [
        " 7. Create a class MathOperations with a class method add_numbers() to add two numbers and a static method subtract_numbers() to subtract two numbers."
      ]
    },
    {
      "cell_type": "code",
      "execution_count": 9,
      "id": "90c83a92",
      "metadata": {
        "colab": {
          "base_uri": "https://localhost:8080/"
        },
        "id": "90c83a92",
        "outputId": "e73eb38f-e587-4914-cba2-5e8134dd472e"
      },
      "outputs": [
        {
          "output_type": "stream",
          "name": "stdout",
          "text": [
            "8\n",
            "6\n"
          ]
        }
      ],
      "source": [
        "class MathOperations:\n",
        "    @classmethod\n",
        "    def add_numbers(cls, a, b):\n",
        "        return a + b\n",
        "\n",
        "    @staticmethod\n",
        "    def subtract_numbers(a, b):\n",
        "        return a - b\n",
        "\n",
        "print(MathOperations.add_numbers(5, 3))\n",
        "print(MathOperations.subtract_numbers(10, 4))"
      ]
    },
    {
      "cell_type": "markdown",
      "id": "841ec24f",
      "metadata": {
        "id": "841ec24f"
      },
      "source": [
        " 8. Implement a class Person with a class method to count the total number of persons created."
      ]
    },
    {
      "cell_type": "code",
      "execution_count": 10,
      "id": "b1fc9d6e",
      "metadata": {
        "colab": {
          "base_uri": "https://localhost:8080/"
        },
        "id": "b1fc9d6e",
        "outputId": "30d931ad-80cf-44b7-adca-189df0059abe"
      },
      "outputs": [
        {
          "output_type": "stream",
          "name": "stdout",
          "text": [
            "Total persons: 2\n"
          ]
        }
      ],
      "source": [
        "class Person:\n",
        "    count = 0\n",
        "\n",
        "    def __init__(self, name):\n",
        "        self.name = name\n",
        "        Person.count += 1\n",
        "\n",
        "    @classmethod\n",
        "    def total_persons(cls):\n",
        "        return cls.count\n",
        "\n",
        "p1 = Person(\"Alice\")\n",
        "p2 = Person(\"Bob\")\n",
        "print(\"Total persons:\", Person.total_persons())"
      ]
    },
    {
      "cell_type": "markdown",
      "id": "c2cdcaa0",
      "metadata": {
        "id": "c2cdcaa0"
      },
      "source": [
        " 9. Write a class Fraction with attributes numerator and denominator. Override the str method to display the fraction as \"numerator/denominator\"."
      ]
    },
    {
      "cell_type": "code",
      "execution_count": 11,
      "id": "fb55f6c3",
      "metadata": {
        "colab": {
          "base_uri": "https://localhost:8080/"
        },
        "id": "fb55f6c3",
        "outputId": "dbd2556e-7b35-4fdb-c42d-3ed485b3bf02"
      },
      "outputs": [
        {
          "output_type": "stream",
          "name": "stdout",
          "text": [
            "3/4\n"
          ]
        }
      ],
      "source": [
        "class Fraction:\n",
        "    def __init__(self, numerator, denominator):\n",
        "        self.numerator = numerator\n",
        "        self.denominator = denominator\n",
        "\n",
        "    def __str__(self):\n",
        "        return f\"{self.numerator}/{self.denominator}\"\n",
        "\n",
        "f = Fraction(3, 4)\n",
        "print(f)"
      ]
    },
    {
      "cell_type": "markdown",
      "id": "8f86d97e",
      "metadata": {
        "id": "8f86d97e"
      },
      "source": [
        " 10. Demonstrate operator overloading by creating a class Vector and overriding the add method to add two vectors."
      ]
    },
    {
      "cell_type": "code",
      "execution_count": 12,
      "id": "53add295",
      "metadata": {
        "colab": {
          "base_uri": "https://localhost:8080/"
        },
        "id": "53add295",
        "outputId": "d176bf3f-9107-478a-c810-076bcd5083d6"
      },
      "outputs": [
        {
          "output_type": "stream",
          "name": "stdout",
          "text": [
            "Vector(6, 8)\n"
          ]
        }
      ],
      "source": [
        "class Vector:\n",
        "    def __init__(self, x, y):\n",
        "        self.x = x\n",
        "        self.y = y\n",
        "\n",
        "    def __add__(self, other):\n",
        "        return Vector(self.x + other.x, self.y + other.y)\n",
        "\n",
        "    def __str__(self):\n",
        "        return f\"Vector({self.x}, {self.y})\"\n",
        "\n",
        "v1 = Vector(2, 3)\n",
        "v2 = Vector(4, 5)\n",
        "print(v1 + v2)"
      ]
    },
    {
      "cell_type": "markdown",
      "id": "693b801a",
      "metadata": {
        "id": "693b801a"
      },
      "source": [
        " 11. Create a class Person with attributes name and age. Add a method greet() that prints \"Hello, my name is {name} and I am {age} years old.\"\n",
        "\n",
        "\n"
      ]
    },
    {
      "cell_type": "code",
      "execution_count": 13,
      "id": "4696b5b3",
      "metadata": {
        "colab": {
          "base_uri": "https://localhost:8080/"
        },
        "id": "4696b5b3",
        "outputId": "a66514a5-f06a-422a-e25a-65ee62e3e076"
      },
      "outputs": [
        {
          "output_type": "stream",
          "name": "stdout",
          "text": [
            "Hello, my name is Alice and I am 25 years old.\n"
          ]
        }
      ],
      "source": [
        "class Person:\n",
        "    def __init__(self, name, age):\n",
        "        self.name = name\n",
        "        self.age = age\n",
        "\n",
        "    def greet(self):\n",
        "        print(f\"Hello, my name is {self.name} and I am {self.age} years old.\")\n",
        "\n",
        "p = Person(\"Alice\", 25)\n",
        "p.greet()"
      ]
    },
    {
      "cell_type": "markdown",
      "id": "397164bc",
      "metadata": {
        "id": "397164bc"
      },
      "source": [
        " 12. Implement a class Student with attributes name and grades. Create a method average_grade() to compute\n",
        "the average of the grades.\n"
      ]
    },
    {
      "cell_type": "code",
      "execution_count": 14,
      "id": "6ce8215b",
      "metadata": {
        "colab": {
          "base_uri": "https://localhost:8080/"
        },
        "id": "6ce8215b",
        "outputId": "b5b808a4-b407-4d40-c398-ada3f447f237"
      },
      "outputs": [
        {
          "output_type": "stream",
          "name": "stdout",
          "text": [
            "Average grade: 84.33333333333333\n"
          ]
        }
      ],
      "source": [
        "class Student:\n",
        "    def __init__(self, name, grades):\n",
        "        self.name = name\n",
        "        self.grades = grades\n",
        "\n",
        "    def average_grade(self):\n",
        "        return sum(self.grades) / len(self.grades)\n",
        "\n",
        "s = Student(\"Bob\", [85, 90, 78])\n",
        "print(\"Average grade:\", s.average_grade())"
      ]
    },
    {
      "cell_type": "markdown",
      "id": "66d0fc13",
      "metadata": {
        "id": "66d0fc13"
      },
      "source": [
        " 13. Create a class Rectangle with methods set_dimensions() to set the dimensions and area() to calculate the\n",
        "area.\n"
      ]
    },
    {
      "cell_type": "code",
      "execution_count": 15,
      "id": "ea1bf42e",
      "metadata": {
        "colab": {
          "base_uri": "https://localhost:8080/"
        },
        "id": "ea1bf42e",
        "outputId": "29863503-14f7-4922-a6c8-be6c78026a7b"
      },
      "outputs": [
        {
          "output_type": "stream",
          "name": "stdout",
          "text": [
            "Area: 15\n"
          ]
        }
      ],
      "source": [
        "class Rectangle:\n",
        "    def set_dimensions(self, length, width):\n",
        "        self.length = length\n",
        "        self.width = width\n",
        "\n",
        "    def area(self):\n",
        "        return self.length * self.width\n",
        "\n",
        "rect = Rectangle()\n",
        "rect.set_dimensions(5, 3)\n",
        "print(\"Area:\", rect.area())"
      ]
    },
    {
      "cell_type": "markdown",
      "id": "5708c3ac",
      "metadata": {
        "id": "5708c3ac"
      },
      "source": [
        " 14. Create a class Employee with a method calculate_salary() that computes the salary based on hours worked and hourly rate. Create a derived class Manager that adds a bonus to the salary."
      ]
    },
    {
      "cell_type": "code",
      "execution_count": 16,
      "id": "4034e711",
      "metadata": {
        "colab": {
          "base_uri": "https://localhost:8080/"
        },
        "id": "4034e711",
        "outputId": "afc190a2-6bba-4926-e588-558599e01ade"
      },
      "outputs": [
        {
          "output_type": "stream",
          "name": "stdout",
          "text": [
            "Manager Salary: 2500\n"
          ]
        }
      ],
      "source": [
        "class Employee:\n",
        "    def __init__(self, hours, rate):\n",
        "        self.hours = hours\n",
        "        self.rate = rate\n",
        "\n",
        "    def calculate_salary(self):\n",
        "        return self.hours * self.rate\n",
        "\n",
        "class Manager(Employee):\n",
        "    def __init__(self, hours, rate, bonus):\n",
        "        super().__init__(hours, rate)\n",
        "        self.bonus = bonus\n",
        "\n",
        "    def calculate_salary(self):\n",
        "        return super().calculate_salary() + self.bonus\n",
        "\n",
        "m = Manager(40, 50, 500)\n",
        "print(\"Manager Salary:\", m.calculate_salary())"
      ]
    },
    {
      "cell_type": "markdown",
      "id": "d9365b55",
      "metadata": {
        "id": "d9365b55"
      },
      "source": [
        "15. Create a class Product with attributes name, price, and quantity. Implement a method total_price() that\n",
        "calculates the total price of the product.\n",
        "\n"
      ]
    },
    {
      "cell_type": "code",
      "execution_count": 17,
      "id": "4c900ab4",
      "metadata": {
        "colab": {
          "base_uri": "https://localhost:8080/"
        },
        "id": "4c900ab4",
        "outputId": "9c1dc368-8df3-4e23-e424-54d9fa9ec8fc"
      },
      "outputs": [
        {
          "output_type": "stream",
          "name": "stdout",
          "text": [
            "Total Price: 2000\n"
          ]
        }
      ],
      "source": [
        "class Product:\n",
        "    def __init__(self, name, price, quantity):\n",
        "        self.name = name\n",
        "        self.price = price\n",
        "        self.quantity = quantity\n",
        "\n",
        "    def total_price(self):\n",
        "        return self.price * self.quantity\n",
        "\n",
        "p = Product(\"Laptop\", 1000, 2)\n",
        "print(\"Total Price:\", p.total_price())"
      ]
    },
    {
      "cell_type": "markdown",
      "id": "786b3225",
      "metadata": {
        "id": "786b3225"
      },
      "source": [
        " 16. Create a class Animal with an abstract method sound(). Create two derived classes Cow and Sheep that\n",
        "implement the sound() method.\n"
      ]
    },
    {
      "cell_type": "code",
      "execution_count": 18,
      "id": "d648c906",
      "metadata": {
        "colab": {
          "base_uri": "https://localhost:8080/"
        },
        "id": "d648c906",
        "outputId": "b18a5417-8177-4d61-d405-5059f84ff029"
      },
      "outputs": [
        {
          "output_type": "stream",
          "name": "stdout",
          "text": [
            "Moo\n",
            "Baa\n"
          ]
        }
      ],
      "source": [
        "from abc import ABC, abstractmethod\n",
        "\n",
        "class Animal(ABC):\n",
        "    @abstractmethod\n",
        "    def sound(self):\n",
        "        pass\n",
        "\n",
        "class Cow(Animal):\n",
        "    def sound(self):\n",
        "        return \"Moo\"\n",
        "\n",
        "class Sheep(Animal):\n",
        "    def sound(self):\n",
        "        return \"Baa\"\n",
        "\n",
        "c = Cow()\n",
        "s = Sheep()\n",
        "print(c.sound())\n",
        "print(s.sound())"
      ]
    },
    {
      "cell_type": "markdown",
      "id": "4d337011",
      "metadata": {
        "id": "4d337011"
      },
      "source": [
        " 17. Create a class Book with attributes title, author, and year_published. Add a method get_book_info() that returns a formatted string with the book's details.\n",
        "\n",
        "\n"
      ]
    },
    {
      "cell_type": "code",
      "execution_count": 19,
      "id": "d07d24db",
      "metadata": {
        "colab": {
          "base_uri": "https://localhost:8080/"
        },
        "id": "d07d24db",
        "outputId": "d292adee-f6f8-4682-a2e3-f46753c413d7"
      },
      "outputs": [
        {
          "output_type": "stream",
          "name": "stdout",
          "text": [
            "1984 by George Orwell, published in 1949\n"
          ]
        }
      ],
      "source": [
        "class Book:\n",
        "    def __init__(self, title, author, year_published):\n",
        "        self.title = title\n",
        "        self.author = author\n",
        "        self.year_published = year_published\n",
        "\n",
        "    def get_book_info(self):\n",
        "        return f\"{self.title} by {self.author}, published in {self.year_published}\"\n",
        "\n",
        "b = Book(\"1984\", \"George Orwell\", 1949)\n",
        "print(b.get_book_info())"
      ]
    },
    {
      "cell_type": "markdown",
      "id": "5fd6485b",
      "metadata": {
        "id": "5fd6485b"
      },
      "source": [
        " 18. Create a class House with attributes address and price. Create a derived class Mansion that adds an attribute number_of_rooms."
      ]
    },
    {
      "cell_type": "code",
      "execution_count": 20,
      "id": "c1811ab8",
      "metadata": {
        "colab": {
          "base_uri": "https://localhost:8080/"
        },
        "id": "c1811ab8",
        "outputId": "15292bd3-1340-4b0c-cbad-384bad3e00ad"
      },
      "outputs": [
        {
          "output_type": "stream",
          "name": "stdout",
          "text": [
            "123 Street 500000 10\n"
          ]
        }
      ],
      "source": [
        "class House:\n",
        "    def __init__(self, address, price):\n",
        "        self.address = address\n",
        "        self.price = price\n",
        "\n",
        "class Mansion(House):\n",
        "    def __init__(self, address, price, number_of_rooms):\n",
        "        super().__init__(address, price)\n",
        "        self.number_of_rooms = number_of_rooms\n",
        "\n",
        "m = Mansion(\"123 Street\", 500000, 10)\n",
        "print(m.address, m.price, m.number_of_rooms)"
      ]
    }
  ],
  "metadata": {
    "colab": {
      "provenance": []
    },
    "language_info": {
      "name": "python"
    },
    "kernelspec": {
      "name": "python3",
      "display_name": "Python 3"
    }
  },
  "nbformat": 4,
  "nbformat_minor": 5
}