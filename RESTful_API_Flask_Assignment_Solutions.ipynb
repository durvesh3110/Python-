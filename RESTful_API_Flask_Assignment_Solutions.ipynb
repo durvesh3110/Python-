{
  "cells": [
    {
      "cell_type": "markdown",
      "id": "1b7c3ea1",
      "metadata": {
        "id": "1b7c3ea1"
      },
      "source": [
        "# ***Theory Questions Solution***"
      ]
    },
    {
      "cell_type": "markdown",
      "id": "7c7246fe",
      "metadata": {
        "id": "7c7246fe"
      },
      "source": [
        "**Q: What is a RESTful API**\n",
        "\n",
        "A: A RESTful API is an API that follows the REST architecture principles. It uses HTTP methods like GET, POST, PUT, and DELETE to perform CRUD operations on resources, which are identified by URLs."
      ]
    },
    {
      "cell_type": "markdown",
      "id": "5c0df143",
      "metadata": {
        "id": "5c0df143"
      },
      "source": [
        "**Q: Explain the concept of API specification**\n",
        "\n",
        "A: An API specification defines the structure and behavior of an API, including endpoints, request methods, input/output formats, authentication, and error codes. It serves as a contract between client and server."
      ]
    },
    {
      "cell_type": "markdown",
      "id": "dece0f0d",
      "metadata": {
        "id": "dece0f0d"
      },
      "source": [
        "**Q: What is Flask, and why is it popular for building APIs**\n",
        "\n",
        "A: Flask is a lightweight Python web framework. It is popular because it is simple, flexible, easy to learn, and has many extensions for building APIs and web applications."
      ]
    },
    {
      "cell_type": "markdown",
      "id": "e6b6812f",
      "metadata": {
        "id": "e6b6812f"
      },
      "source": [
        "**Q: What is routing in Flask**\n",
        "\n",
        "A: Routing in Flask refers to mapping a URL path to a specific function in the application, allowing the app to respond to different endpoints."
      ]
    },
    {
      "cell_type": "markdown",
      "id": "6fc243d6",
      "metadata": {
        "id": "6fc243d6"
      },
      "source": [
        "**Q: How do you create a simple Flask application**\n",
        "\n",
        "A: You create a simple Flask app by importing Flask, creating an app instance, and defining routes with the @app.route() decorator."
      ]
    },
    {
      "cell_type": "markdown",
      "id": "e6df1b8c",
      "metadata": {
        "id": "e6df1b8c"
      },
      "source": [
        "**Q: What are HTTP methods used in RESTful APIs**\n",
        "\n",
        "A: The main HTTP methods are GET (retrieve data), POST (create data), PUT (update data), DELETE (remove data), and PATCH (partial update)."
      ]
    },
    {
      "cell_type": "markdown",
      "id": "22121216",
      "metadata": {
        "id": "22121216"
      },
      "source": [
        "**Q: What is the purpose of the @app.route() decorator in Flask**\n",
        "\n",
        "A: The @app.route() decorator maps a URL to a function that should handle requests sent to that route."
      ]
    },
    {
      "cell_type": "markdown",
      "id": "0983d22b",
      "metadata": {
        "id": "0983d22b"
      },
      "source": [
        "**Q: What is the difference between GET and POST HTTP methods**\n",
        "\n",
        "A: GET retrieves data from the server without altering it, while POST sends data to the server to create or modify resources."
      ]
    },
    {
      "cell_type": "markdown",
      "id": "9959aacc",
      "metadata": {
        "id": "9959aacc"
      },
      "source": [
        "**Q: How do you handle errors in Flask APIs**\n",
        "\n",
        "A: Errors are handled using error handlers with @app.errorhandler or by returning custom JSON responses with appropriate status codes."
      ]
    },
    {
      "cell_type": "markdown",
      "id": "9d1eecd2",
      "metadata": {
        "id": "9d1eecd2"
      },
      "source": [
        "**Q: How do you connect Flask to a SQL database**\n",
        "\n",
        "A: You can connect Flask to a SQL database using libraries like Flask-SQLAlchemy, which provides ORM support for easier queries."
      ]
    },
    {
      "cell_type": "markdown",
      "id": "238668b6",
      "metadata": {
        "id": "238668b6"
      },
      "source": [
        "**Q: What is the role of Flask-SQLAlchemy**\n",
        "\n",
        "A: Flask-SQLAlchemy is an extension that integrates SQLAlchemy ORM with Flask, simplifying database operations."
      ]
    },
    {
      "cell_type": "markdown",
      "id": "f386de93",
      "metadata": {
        "id": "f386de93"
      },
      "source": [
        "**Q: What are Flask blueprints, and how are they useful**\n",
        "\n",
        "A: Blueprints in Flask allow organizing an application into reusable modules, making large applications easier to manage."
      ]
    },
    {
      "cell_type": "markdown",
      "id": "5bc49de7",
      "metadata": {
        "id": "5bc49de7"
      },
      "source": [
        "**Q: What is the purpose of Flask's request object**\n",
        "\n",
        "A: The request object holds data from the current HTTP request, such as form inputs, JSON payloads, and query parameters."
      ]
    },
    {
      "cell_type": "markdown",
      "id": "be2fce71",
      "metadata": {
        "id": "be2fce71"
      },
      "source": [
        "**Q: How do you create a RESTful API endpoint using Flask**\n",
        "\n",
        "A: Define a route using @app.route() with the desired HTTP method and return JSON responses using jsonify."
      ]
    },
    {
      "cell_type": "markdown",
      "id": "891caca5",
      "metadata": {
        "id": "891caca5"
      },
      "source": [
        "**Q: What is the purpose of Flask's jsonify() function**\n",
        "\n",
        "A: jsonify() is used to convert Python dictionaries to JSON format responses with the correct MIME type."
      ]
    },
    {
      "cell_type": "markdown",
      "id": "40d5dd50",
      "metadata": {
        "id": "40d5dd50"
      },
      "source": [
        "**Q: Explain Flask’s url_for() function**\n",
        "\n",
        "A: url_for() dynamically generates URLs for routes using function names, making applications more maintainable."
      ]
    },
    {
      "cell_type": "markdown",
      "id": "abb73a77",
      "metadata": {
        "id": "abb73a77"
      },
      "source": [
        "**Q: How does Flask handle static files (CSS, JavaScript, etc.)**\n",
        "\n",
        "A: Flask serves static files from the 'static' folder by default, accessible using the url_for('static', filename='...') function."
      ]
    },
    {
      "cell_type": "markdown",
      "id": "79f0d5d5",
      "metadata": {
        "id": "79f0d5d5"
      },
      "source": [
        "**Q: What is an API specification, and how does it help in building a Flask API**\n",
        "\n",
        "A: An API specification documents the API's endpoints, request/response formats, and rules, ensuring consistency and clear communication."
      ]
    },
    {
      "cell_type": "markdown",
      "id": "e32a1df4",
      "metadata": {
        "id": "e32a1df4"
      },
      "source": [
        "**Q: What are HTTP status codes, and why are they important in a Flask API**\n",
        "\n",
        "A: HTTP status codes indicate the result of a request, such as 200 (OK), 404 (Not Found), or 500 (Server Error). They inform clients about request outcomes."
      ]
    },
    {
      "cell_type": "markdown",
      "id": "28135b3b",
      "metadata": {
        "id": "28135b3b"
      },
      "source": [
        "**Q: How do you handle POST requests in Flask**\n",
        "\n",
        "A: POST requests are handled by defining routes with methods=['POST'] and retrieving data from request.form or request.json."
      ]
    },
    {
      "cell_type": "markdown",
      "id": "c2f91e17",
      "metadata": {
        "id": "c2f91e17"
      },
      "source": [
        "**Q: How would you secure a Flask API**\n",
        "\n",
        "A: Security can be implemented using authentication (JWT, OAuth), HTTPS, input validation, rate limiting, and proper error handling."
      ]
    },
    {
      "cell_type": "markdown",
      "id": "9a8882d0",
      "metadata": {
        "id": "9a8882d0"
      },
      "source": [
        "**Q: What is the significance of the Flask-RESTful extension**\n",
        "\n",
        "A: Flask-RESTful is an extension that simplifies creating RESTful APIs by providing resource classes, request parsing, and automatic response formatting."
      ]
    },
    {
      "cell_type": "markdown",
      "id": "05af9f84",
      "metadata": {
        "id": "05af9f84"
      },
      "source": [
        "**Q: What is the role of Flask’s session object?**\n",
        "\n",
        "A: The session object stores user-specific data across requests, using cookies with cryptographic signing for security."
      ]
    },
    {
      "cell_type": "markdown",
      "id": "4530f439",
      "metadata": {
        "id": "4530f439"
      },
      "source": [
        "# ***Practical Questions Solution***"
      ]
    },
    {
      "cell_type": "code",
      "source": [
        "# Install flask and flask-ngrok (if not already installed)\n",
        "!pip install flask flask-ngrok\n",
        "\n",
        "# ---------------------- Flask App -------------------------\n",
        "from flask import Flask, request, render_template_string, session, redirect, url_for, jsonify\n",
        "from flask_ngrok import run_with_ngrok\n",
        "from flask import Blueprint\n",
        "\n",
        "app = Flask(__name__)\n",
        "app.secret_key = \"secret!\"  # Needed for sessions\n",
        "run_with_ngrok(app)  # to run via ngrok in Colab"
      ],
      "metadata": {
        "colab": {
          "base_uri": "https://localhost:8080/"
        },
        "id": "uZgKwdtq2ChA",
        "outputId": "8a6a03d0-99d6-4d11-9da0-1951b451ce74"
      },
      "id": "uZgKwdtq2ChA",
      "execution_count": 10,
      "outputs": [
        {
          "output_type": "stream",
          "name": "stdout",
          "text": [
            "Requirement already satisfied: flask in /usr/local/lib/python3.12/dist-packages (3.1.2)\n",
            "Collecting flask-ngrok\n",
            "  Downloading flask_ngrok-0.0.25-py3-none-any.whl.metadata (1.8 kB)\n",
            "Requirement already satisfied: blinker>=1.9.0 in /usr/local/lib/python3.12/dist-packages (from flask) (1.9.0)\n",
            "Requirement already satisfied: click>=8.1.3 in /usr/local/lib/python3.12/dist-packages (from flask) (8.2.1)\n",
            "Requirement already satisfied: itsdangerous>=2.2.0 in /usr/local/lib/python3.12/dist-packages (from flask) (2.2.0)\n",
            "Requirement already satisfied: jinja2>=3.1.2 in /usr/local/lib/python3.12/dist-packages (from flask) (3.1.6)\n",
            "Requirement already satisfied: markupsafe>=2.1.1 in /usr/local/lib/python3.12/dist-packages (from flask) (3.0.2)\n",
            "Requirement already satisfied: werkzeug>=3.1.0 in /usr/local/lib/python3.12/dist-packages (from flask) (3.1.3)\n",
            "Requirement already satisfied: requests in /usr/local/lib/python3.12/dist-packages (from flask-ngrok) (2.32.4)\n",
            "Requirement already satisfied: charset_normalizer<4,>=2 in /usr/local/lib/python3.12/dist-packages (from requests->flask-ngrok) (3.4.3)\n",
            "Requirement already satisfied: idna<4,>=2.5 in /usr/local/lib/python3.12/dist-packages (from requests->flask-ngrok) (3.10)\n",
            "Requirement already satisfied: urllib3<3,>=1.21.1 in /usr/local/lib/python3.12/dist-packages (from requests->flask-ngrok) (2.5.0)\n",
            "Requirement already satisfied: certifi>=2017.4.17 in /usr/local/lib/python3.12/dist-packages (from requests->flask-ngrok) (2025.8.3)\n",
            "Downloading flask_ngrok-0.0.25-py3-none-any.whl (3.1 kB)\n",
            "Installing collected packages: flask-ngrok\n",
            "Successfully installed flask-ngrok-0.0.25\n"
          ]
        }
      ]
    },
    {
      "cell_type": "markdown",
      "id": "19a54520",
      "metadata": {
        "id": "19a54520"
      },
      "source": [
        "**Q: How do you create a basic Flask application**"
      ]
    },
    {
      "cell_type": "code",
      "execution_count": 14,
      "id": "69561d74",
      "metadata": {
        "colab": {
          "base_uri": "https://localhost:8080/"
        },
        "id": "69561d74",
        "outputId": "06800d14-7e48-4e4e-e865-33fb4df493cb"
      },
      "outputs": [
        {
          "output_type": "stream",
          "name": "stdout",
          "text": [
            "Requirement already satisfied: flask in /usr/local/lib/python3.12/dist-packages (3.1.2)\n",
            "Requirement already satisfied: flask-ngrok in /usr/local/lib/python3.12/dist-packages (0.0.25)\n",
            "Requirement already satisfied: blinker>=1.9.0 in /usr/local/lib/python3.12/dist-packages (from flask) (1.9.0)\n",
            "Requirement already satisfied: click>=8.1.3 in /usr/local/lib/python3.12/dist-packages (from flask) (8.2.1)\n",
            "Requirement already satisfied: itsdangerous>=2.2.0 in /usr/local/lib/python3.12/dist-packages (from flask) (2.2.0)\n",
            "Requirement already satisfied: jinja2>=3.1.2 in /usr/local/lib/python3.12/dist-packages (from flask) (3.1.6)\n",
            "Requirement already satisfied: markupsafe>=2.1.1 in /usr/local/lib/python3.12/dist-packages (from flask) (3.0.2)\n",
            "Requirement already satisfied: werkzeug>=3.1.0 in /usr/local/lib/python3.12/dist-packages (from flask) (3.1.3)\n",
            "Requirement already satisfied: requests in /usr/local/lib/python3.12/dist-packages (from flask-ngrok) (2.32.4)\n",
            "Requirement already satisfied: charset_normalizer<4,>=2 in /usr/local/lib/python3.12/dist-packages (from requests->flask-ngrok) (3.4.3)\n",
            "Requirement already satisfied: idna<4,>=2.5 in /usr/local/lib/python3.12/dist-packages (from requests->flask-ngrok) (3.10)\n",
            "Requirement already satisfied: urllib3<3,>=1.21.1 in /usr/local/lib/python3.12/dist-packages (from requests->flask-ngrok) (2.5.0)\n",
            "Requirement already satisfied: certifi>=2017.4.17 in /usr/local/lib/python3.12/dist-packages (from requests->flask-ngrok) (2025.8.3)\n"
          ]
        }
      ],
      "source": [
        "# Install flask and flask-ngrok (if not already installed)\n",
        "!pip install flask flask-ngrok\n",
        "\n",
        "# ---------------------- Flask App -------------------------\n",
        "from flask import Flask, request, render_template_string, session, redirect, url_for, jsonify\n",
        "from flask_ngrok import run_with_ngrok\n",
        "from flask import Blueprint\n",
        "\n",
        "app = Flask(__name__)\n",
        "app.secret_key = \"secret!\"  # Needed for sessions\n",
        "run_with_ngrok(app)  # to run via ngrok in Colab\n",
        "\n",
        "\n",
        "@app.route('/')\n",
        "def home():\n",
        "    return \"Hello, Flask! This is the home route.\""
      ]
    },
    {
      "cell_type": "markdown",
      "id": "ef7757e9",
      "metadata": {
        "id": "ef7757e9"
      },
      "source": [
        "**Q: How do you serve static files like images or CSS in Flask**"
      ]
    },
    {
      "cell_type": "code",
      "execution_count": 2,
      "id": "736c8e30",
      "metadata": {
        "id": "736c8e30"
      },
      "outputs": [],
      "source": [
        "# Place static files (CSS, JS, images) in a folder named 'static'.\n",
        "# Example usage in HTML template:\n",
        "# <link rel=\"stylesheet\" href=\"{{ url_for('static', filename='style.css') }}\">"
      ]
    },
    {
      "cell_type": "markdown",
      "id": "802fae78",
      "metadata": {
        "id": "802fae78"
      },
      "source": [
        "**Q: How do you define different routes with different HTTP methods in Flask**"
      ]
    },
    {
      "cell_type": "code",
      "execution_count": 15,
      "id": "efa408c9",
      "metadata": {
        "id": "efa408c9"
      },
      "outputs": [],
      "source": [
        "@app.route('/data', methods=['GET', 'POST'])\n",
        "def data():\n",
        "    if request.method == 'GET':\n",
        "        return \"GET request received\"\n",
        "    elif request.method == 'POST':\n",
        "        return \"POST request received\""
      ]
    },
    {
      "cell_type": "markdown",
      "id": "c02e57a1",
      "metadata": {
        "id": "c02e57a1"
      },
      "source": [
        "**Q: How do you render HTML templates in Flask**"
      ]
    },
    {
      "cell_type": "code",
      "source": [
        "@app.route('/hello')\n",
        "def hello():\n",
        "    template = \"\"\"<h1>Hello, {{name}}!</h1>\"\"\"\n",
        "    return render_template_string(template, name=\"World\")"
      ],
      "metadata": {
        "id": "YB8QHpl13q4U"
      },
      "id": "YB8QHpl13q4U",
      "execution_count": null,
      "outputs": []
    },
    {
      "cell_type": "markdown",
      "id": "4d820f34",
      "metadata": {
        "id": "4d820f34"
      },
      "source": [
        "**Q: How can you generate URLs for routes in Flask using url_for**"
      ]
    },
    {
      "cell_type": "code",
      "execution_count": null,
      "id": "820ce705",
      "metadata": {
        "id": "820ce705"
      },
      "outputs": [],
      "source": [
        "from flask import url_for\n",
        "\n",
        "@app.route('/profile/<username>')\n",
        "def profile(username):\n",
        "    return f\"Profile of {username}\"\n",
        "\n",
        "with app.test_request_context():\n",
        "    print(url_for('profile', username='john'))"
      ]
    },
    {
      "cell_type": "markdown",
      "id": "26d3033a",
      "metadata": {
        "id": "26d3033a"
      },
      "source": [
        "**Q: How do you handle forms in Flask**"
      ]
    },
    {
      "cell_type": "code",
      "execution_count": null,
      "id": "61635d52",
      "metadata": {
        "id": "61635d52"
      },
      "outputs": [],
      "source": [
        "from flask import request\n",
        "\n",
        "@app.route('/form', methods=['GET', 'POST'])\n",
        "def form():\n",
        "    if request.method == 'POST':\n",
        "        name = request.form['name']\n",
        "        return f\"Hello {name}\"\n",
        "    return '''\n",
        "        <form method=\"post\">\n",
        "            <input type=\"text\" name=\"name\">\n",
        "            <input type=\"submit\">\n",
        "        </form>\n",
        "    '''"
      ]
    },
    {
      "cell_type": "markdown",
      "id": "fff3a383",
      "metadata": {
        "id": "fff3a383"
      },
      "source": [
        "**Q: How can you validate form data in Flask**"
      ]
    },
    {
      "cell_type": "code",
      "execution_count": null,
      "id": "55637aaf",
      "metadata": {
        "id": "55637aaf"
      },
      "outputs": [],
      "source": [
        "@app.route('/validate', methods=['POST'])\n",
        "def validate():\n",
        "    name = request.form.get('name')\n",
        "    if not name:\n",
        "        return \"Name is required\"\n",
        "    return f\"Welcome {name}\""
      ]
    },
    {
      "cell_type": "markdown",
      "id": "56638f55",
      "metadata": {
        "id": "56638f55"
      },
      "source": [
        "**Q: How do you manage sessions in Flask**"
      ]
    },
    {
      "cell_type": "code",
      "execution_count": null,
      "id": "44cfdb1c",
      "metadata": {
        "id": "44cfdb1c"
      },
      "outputs": [],
      "source": [
        "from flask import session\n",
        "\n",
        "app.secret_key = 'secret!'\n",
        "\n",
        "@app.route('/set_session')\n",
        "def set_session():\n",
        "    session['user'] = 'Alice'\n",
        "    return \"Session set\"\n",
        "\n",
        "@app.route('/get_session')\n",
        "def get_session():\n",
        "    return session.get('user', 'Not logged in')"
      ]
    },
    {
      "cell_type": "markdown",
      "id": "bef69337",
      "metadata": {
        "id": "bef69337"
      },
      "source": [
        "**Q: How do you redirect to a different route in Flask**"
      ]
    },
    {
      "cell_type": "code",
      "execution_count": null,
      "id": "369fe278",
      "metadata": {
        "id": "369fe278"
      },
      "outputs": [],
      "source": [
        "from flask import redirect, url_for\n",
        "\n",
        "@app.route('/go_home')\n",
        "def go_home():\n",
        "    return redirect(url_for('home'))"
      ]
    },
    {
      "cell_type": "markdown",
      "id": "a44616eb",
      "metadata": {
        "id": "a44616eb"
      },
      "source": [
        "**Q: How do you handle errors in Flask (e.g., 404)**"
      ]
    },
    {
      "cell_type": "code",
      "execution_count": null,
      "id": "d709d12b",
      "metadata": {
        "id": "d709d12b"
      },
      "outputs": [],
      "source": [
        "@app.errorhandler(404)\n",
        "def not_found(error):\n",
        "    return \"Page not found\", 404"
      ]
    },
    {
      "cell_type": "markdown",
      "id": "c232371a",
      "metadata": {
        "id": "c232371a"
      },
      "source": [
        "**Q: How do you structure a Flask app using Blueprints**"
      ]
    },
    {
      "cell_type": "code",
      "execution_count": 27,
      "id": "87346503",
      "metadata": {
        "id": "87346503"
      },
      "outputs": [],
      "source": [
        "from flask import Blueprint\n",
        "\n",
        "bp = Blueprint('bp', __name__)\n",
        "\n",
        "@bp.route('/hello')\n",
        "def hello():\n",
        "    return \"Hello from Blueprint!\"\n",
        "\n",
        "app.register_blueprint(bp)"
      ]
    },
    {
      "cell_type": "markdown",
      "id": "0e501534",
      "metadata": {
        "id": "0e501534"
      },
      "source": [
        "**Q: How do you define a custom Jinja filter in Flask**"
      ]
    },
    {
      "cell_type": "code",
      "execution_count": 28,
      "id": "8e35d5d8",
      "metadata": {
        "id": "8e35d5d8"
      },
      "outputs": [],
      "source": [
        "@app.template_filter('reverse')\n",
        "def reverse_filter(s):\n",
        "    return s[::-1]\n",
        ""
      ]
    },
    {
      "cell_type": "markdown",
      "id": "4a9f7255",
      "metadata": {
        "id": "4a9f7255"
      },
      "source": [
        "**Q: How can you redirect with query parameters in Flask**"
      ]
    },
    {
      "cell_type": "code",
      "execution_count": 25,
      "id": "95668812",
      "metadata": {
        "id": "95668812"
      },
      "outputs": [],
      "source": [
        "@app.route('/redirect_with_params')\n",
        "def redirect_with_params():\n",
        "    return redirect(url_for('home', name='Alice'))"
      ]
    },
    {
      "cell_type": "markdown",
      "id": "f597d2f7",
      "metadata": {
        "id": "f597d2f7"
      },
      "source": [
        "**Q: How do you return JSON responses in Flask**"
      ]
    },
    {
      "cell_type": "code",
      "execution_count": 24,
      "id": "d2f08a99",
      "metadata": {
        "id": "d2f08a99"
      },
      "outputs": [],
      "source": [
        "from flask import jsonify\n",
        "\n",
        "@app.route('/json')\n",
        "def json_response():\n",
        "    return jsonify({\"message\": \"Hello, JSON\"})"
      ]
    },
    {
      "cell_type": "markdown",
      "id": "5150f44d",
      "metadata": {
        "id": "5150f44d"
      },
      "source": [
        "**Q: How do you capture URL parameters in Flask?**"
      ]
    },
    {
      "cell_type": "code",
      "execution_count": 23,
      "id": "b079d687",
      "metadata": {
        "id": "b079d687"
      },
      "outputs": [],
      "source": [
        "@app.route('/user/<int:user_id>')\n",
        "def get_user(user_id):\n",
        "    return f\"User ID is {user_id}\""
      ]
    }
  ],
  "metadata": {
    "colab": {
      "provenance": []
    },
    "language_info": {
      "name": "python"
    },
    "kernelspec": {
      "name": "python3",
      "display_name": "Python 3"
    }
  },
  "nbformat": 4,
  "nbformat_minor": 5
}