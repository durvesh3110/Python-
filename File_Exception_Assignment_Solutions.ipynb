{
  "cells": [
    {
      "cell_type": "markdown",
      "id": "a95049ec",
      "metadata": {
        "id": "a95049ec"
      },
      "source": [
        "# ***Theory Questions***"
      ]
    },
    {
      "cell_type": "markdown",
      "id": "65539ade",
      "metadata": {
        "id": "65539ade"
      },
      "source": [
        "**Q: What is the difference between interpreted and compiled languages**\n",
        "\n",
        "A: Compiled languages translate the entire source code into machine code before execution, while interpreted languages translate and execute code line by line at runtime."
      ]
    },
    {
      "cell_type": "markdown",
      "id": "8a856f2f",
      "metadata": {
        "id": "8a856f2f"
      },
      "source": [
        "**Q: What is exception handling in Python**\n",
        "\n",
        "A: Exception handling is a mechanism to handle runtime errors using try, except, else, and finally blocks, preventing program crashes."
      ]
    },
    {
      "cell_type": "markdown",
      "id": "62646b66",
      "metadata": {
        "id": "62646b66"
      },
      "source": [
        "**Q: What is the purpose of the finally block in exception handling**\n",
        "\n",
        "A: The finally block is executed regardless of whether an exception occurs or not, usually used for cleanup tasks like closing files."
      ]
    },
    {
      "cell_type": "markdown",
      "id": "46f75a70",
      "metadata": {
        "id": "46f75a70"
      },
      "source": [
        "**Q: What is logging in Python**\n",
        "\n",
        "A: Logging is the process of recording program events, errors, and warnings during execution using Python’s logging module."
      ]
    },
    {
      "cell_type": "markdown",
      "id": "897c2528",
      "metadata": {
        "id": "897c2528"
      },
      "source": [
        "**Q: What is the significance of the __del__ method in Python**\n",
        "\n",
        "A: `__del__` is the destructor method called when an object is garbage-collected, used for cleanup operations."
      ]
    },
    {
      "cell_type": "markdown",
      "id": "6bb0d380",
      "metadata": {
        "id": "6bb0d380"
      },
      "source": [
        "**Q: What is the difference between import and from ... import in Python**\n",
        "\n",
        "A: `import module` imports the entire module, while `from module import function` imports only specific functions or classes."
      ]
    },
    {
      "cell_type": "markdown",
      "id": "89f16edc",
      "metadata": {
        "id": "89f16edc"
      },
      "source": [
        "**Q: How can you handle multiple exceptions in Python**\n",
        "\n",
        "A: Multiple exceptions can be handled by writing multiple except blocks or by using a tuple of exceptions in one except block."
      ]
    },
    {
      "cell_type": "markdown",
      "id": "3949d896",
      "metadata": {
        "id": "3949d896"
      },
      "source": [
        "**Q: What is the purpose of the with statement when handling files in Python**\n",
        "\n",
        "A: The with statement ensures that a file is automatically closed after its block of code is executed, even if an exception occurs."
      ]
    },
    {
      "cell_type": "markdown",
      "id": "c3ce0522",
      "metadata": {
        "id": "c3ce0522"
      },
      "source": [
        "**Q: What is the difference between multithreading and multiprocessing**\n",
        "\n",
        "A: Multithreading runs multiple threads within the same process sharing memory, while multiprocessing runs separate processes with independent memory."
      ]
    },
    {
      "cell_type": "markdown",
      "id": "1ad2db7b",
      "metadata": {
        "id": "1ad2db7b"
      },
      "source": [
        "**Q: What are the advantages of using logging in a program**\n",
        "\n",
        "A: Logging helps in debugging, monitoring program flow, tracking errors, and maintaining program records."
      ]
    },
    {
      "cell_type": "markdown",
      "id": "371353e7",
      "metadata": {
        "id": "371353e7"
      },
      "source": [
        "**Q: What is memory management in Python**\n",
        "\n",
        "A: Memory management in Python involves allocation and deallocation of memory for objects, handled by the Python memory manager and garbage collector."
      ]
    },
    {
      "cell_type": "markdown",
      "id": "19b96e27",
      "metadata": {
        "id": "19b96e27"
      },
      "source": [
        "**Q: What are the basic steps involved in exception handling in Python**\n",
        "\n",
        "A: The steps are: place risky code inside a try block, handle errors in except blocks, optionally use else if no error occurs, and finally for cleanup."
      ]
    },
    {
      "cell_type": "markdown",
      "id": "5c9a966b",
      "metadata": {
        "id": "5c9a966b"
      },
      "source": [
        "**Q: Why is memory management important in Python**\n",
        "\n",
        "A: Efficient memory management ensures better performance, prevents memory leaks, and optimizes resource usage."
      ]
    },
    {
      "cell_type": "markdown",
      "id": "17a7466b",
      "metadata": {
        "id": "17a7466b"
      },
      "source": [
        "**Q: What is the role of try and except in exception handling**\n",
        "\n",
        "A: The try block contains risky code, and the except block defines how to handle errors if they occur."
      ]
    },
    {
      "cell_type": "markdown",
      "id": "66f2c81c",
      "metadata": {
        "id": "66f2c81c"
      },
      "source": [
        "**Q: How does Python's garbage collection system work**\n",
        "\n",
        "A: Python uses reference counting and a cyclic garbage collector to free unused objects automatically."
      ]
    },
    {
      "cell_type": "markdown",
      "id": "d8c73b33",
      "metadata": {
        "id": "d8c73b33"
      },
      "source": [
        "**Q: What is the purpose of the else block in exception handling**\n",
        "\n",
        "A: The else block executes code only if no exception occurs in the try block."
      ]
    },
    {
      "cell_type": "markdown",
      "id": "1eb4fa57",
      "metadata": {
        "id": "1eb4fa57"
      },
      "source": [
        "**Q: What are the common logging levels in Python**\n",
        "\n",
        "A: Common logging levels are DEBUG, INFO, WARNING, ERROR, and CRITICAL."
      ]
    },
    {
      "cell_type": "markdown",
      "id": "abecd282",
      "metadata": {
        "id": "abecd282"
      },
      "source": [
        "**Q: What is the difference between os.fork() and multiprocessing in Python**\n",
        "\n",
        "A: os.fork() creates a child process in Unix-based systems, while multiprocessing works cross-platform and provides higher-level process control."
      ]
    },
    {
      "cell_type": "markdown",
      "id": "1ac6217e",
      "metadata": {
        "id": "1ac6217e"
      },
      "source": [
        "**Q: What is the importance of closing a file in Python**\n",
        "\n",
        "A: Closing a file releases system resources and ensures data is properly written to disk."
      ]
    },
    {
      "cell_type": "markdown",
      "id": "a9a6dc54",
      "metadata": {
        "id": "a9a6dc54"
      },
      "source": [
        "**Q: What is the difference between file.read() and file.readline() in Python**\n",
        "\n",
        "A: file.read() reads the entire file or a specified number of characters, while file.readline() reads one line at a time."
      ]
    },
    {
      "cell_type": "markdown",
      "id": "c77317d5",
      "metadata": {
        "id": "c77317d5"
      },
      "source": [
        "**Q: What is the logging module in Python used for**\n",
        "\n",
        "A: The logging module provides a flexible way to record logs, errors, and debugging information in Python applications."
      ]
    },
    {
      "cell_type": "markdown",
      "id": "91461f4b",
      "metadata": {
        "id": "91461f4b"
      },
      "source": [
        "**Q: What is the os module in Python used for in file handling**\n",
        "\n",
        "A: The os module provides functions to interact with the operating system, such as file creation, deletion, and path management."
      ]
    },
    {
      "cell_type": "markdown",
      "id": "debc8a0b",
      "metadata": {
        "id": "debc8a0b"
      },
      "source": [
        "**Q: What are the challenges associated with memory management in Python**\n",
        "\n",
        "A: Challenges include handling memory leaks, circular references, and managing performance for large datasets."
      ]
    },
    {
      "cell_type": "markdown",
      "id": "fc91ee6a",
      "metadata": {
        "id": "fc91ee6a"
      },
      "source": [
        "**Q: How do you raise an exception manually in Python**\n",
        "\n",
        "A: Exceptions can be raised manually using the raise statement, e.g., raise ValueError('Invalid input')."
      ]
    },
    {
      "cell_type": "markdown",
      "id": "fdaef6b9",
      "metadata": {
        "id": "fdaef6b9"
      },
      "source": [
        "**Q: Why is it important to use multithreading in certain applications**\n",
        "\n",
        "A: Multithreading improves performance in I/O-bound tasks like network requests or file handling by allowing concurrent execution."
      ]
    },
    {
      "cell_type": "markdown",
      "id": "d7f86082",
      "metadata": {
        "id": "d7f86082"
      },
      "source": [
        "# ***Practical Questions Solutions***"
      ]
    },
    {
      "cell_type": "markdown",
      "id": "b52e3165",
      "metadata": {
        "id": "b52e3165"
      },
      "source": [
        "1. How can you open a file for writing in Python and write a string to it?"
      ]
    },
    {
      "cell_type": "code",
      "execution_count": 34,
      "id": "31b4b506",
      "metadata": {
        "id": "31b4b506"
      },
      "outputs": [],
      "source": [
        "# Open a file in write mode\n",
        "with open(\"example.txt\", \"w\") as file:\n",
        "    # Write a string to the file\n",
        "    file.write(\"Hello, this is a test string!\")\n"
      ]
    },
    {
      "cell_type": "markdown",
      "id": "6701fe84",
      "metadata": {
        "id": "6701fe84"
      },
      "source": [
        "2. Write a Python program to read the contents of a file and print each line ?\n"
      ]
    },
    {
      "cell_type": "code",
      "execution_count": 5,
      "id": "f31ecdbc",
      "metadata": {
        "colab": {
          "base_uri": "https://localhost:8080/"
        },
        "id": "f31ecdbc",
        "outputId": "98057478-cdc4-4a80-a2a7-da6244a8e345"
      },
      "outputs": [
        {
          "output_type": "stream",
          "name": "stdout",
          "text": [
            "Hello, World!\n"
          ]
        }
      ],
      "source": [
        "with open(\"test.txt\", \"r\") as f:\n",
        "    for line in f:\n",
        "        print(line.strip())"
      ]
    },
    {
      "cell_type": "markdown",
      "id": "a912e1d3",
      "metadata": {
        "id": "a912e1d3"
      },
      "source": [
        "3. How would you handle a case where the file doesn't exist while trying to open it for reading ?"
      ]
    },
    {
      "cell_type": "code",
      "execution_count": 9,
      "id": "55a816aa",
      "metadata": {
        "colab": {
          "base_uri": "https://localhost:8080/"
        },
        "id": "55a816aa",
        "outputId": "db99bc53-4933-4453-c4fd-2d48dd1401de"
      },
      "outputs": [
        {
          "output_type": "stream",
          "name": "stdout",
          "text": [
            "File does not exist\n"
          ]
        }
      ],
      "source": [
        "try:\n",
        "    with open(\"nofile.txt\", \"r\") as f:\n",
        "        data = f.read()\n",
        "except FileNotFoundError:\n",
        "    print(\"File does not exist\")"
      ]
    },
    {
      "cell_type": "markdown",
      "id": "5cf71ec8",
      "metadata": {
        "id": "5cf71ec8"
      },
      "source": [
        "4. Write a Python script that reads from one file and writes its content to another file ?"
      ]
    },
    {
      "cell_type": "code",
      "execution_count": 36,
      "id": "dcbc16ce",
      "metadata": {
        "colab": {
          "base_uri": "https://localhost:8080/",
          "height": 211
        },
        "id": "dcbc16ce",
        "outputId": "1ccbb841-9ff7-4050-feb7-69c884bd72ec"
      },
      "outputs": [
        {
          "output_type": "error",
          "ename": "FileNotFoundError",
          "evalue": "[Errno 2] No such file or directory: 'source.txt'",
          "traceback": [
            "\u001b[0;31m---------------------------------------------------------------------------\u001b[0m",
            "\u001b[0;31mFileNotFoundError\u001b[0m                         Traceback (most recent call last)",
            "\u001b[0;32m/tmp/ipython-input-1302764097.py\u001b[0m in \u001b[0;36m<cell line: 0>\u001b[0;34m()\u001b[0m\n\u001b[1;32m      2\u001b[0m \u001b[0;34m\u001b[0m\u001b[0m\n\u001b[1;32m      3\u001b[0m \u001b[0;31m# Open source file in read mode and destination file in write mode\u001b[0m\u001b[0;34m\u001b[0m\u001b[0;34m\u001b[0m\u001b[0m\n\u001b[0;32m----> 4\u001b[0;31m \u001b[0;32mwith\u001b[0m \u001b[0mopen\u001b[0m\u001b[0;34m(\u001b[0m\u001b[0;34m\"source.txt\"\u001b[0m\u001b[0;34m,\u001b[0m \u001b[0;34m\"r\"\u001b[0m\u001b[0;34m)\u001b[0m \u001b[0;32mas\u001b[0m \u001b[0msource_file\u001b[0m\u001b[0;34m:\u001b[0m\u001b[0;34m\u001b[0m\u001b[0;34m\u001b[0m\u001b[0m\n\u001b[0m\u001b[1;32m      5\u001b[0m     \u001b[0mcontent\u001b[0m \u001b[0;34m=\u001b[0m \u001b[0msource_file\u001b[0m\u001b[0;34m.\u001b[0m\u001b[0mread\u001b[0m\u001b[0;34m(\u001b[0m\u001b[0;34m)\u001b[0m   \u001b[0;31m# Read entire content\u001b[0m\u001b[0;34m\u001b[0m\u001b[0;34m\u001b[0m\u001b[0m\n\u001b[1;32m      6\u001b[0m \u001b[0;34m\u001b[0m\u001b[0m\n",
            "\u001b[0;31mFileNotFoundError\u001b[0m: [Errno 2] No such file or directory: 'source.txt'"
          ]
        }
      ],
      "source": [
        "# Read from one file and write its content to another\n",
        "\n",
        "# Open source file in read mode and destination file in write mode\n",
        "with open(\"source.txt\", \"r\") as source_file:\n",
        "    content = source_file.read()   # Read entire content\n",
        "\n",
        "with open(\"destination.txt\", \"w\") as destination_file:\n",
        "    destination_file.write(content)   # Write content to new file\n",
        "\n",
        "print(\"File copied successfully!\")\n"
      ]
    },
    {
      "cell_type": "markdown",
      "id": "8b6d4c03",
      "metadata": {
        "id": "8b6d4c03"
      },
      "source": [
        "5.  How would you catch and handle division by zero error in Python ?"
      ]
    },
    {
      "cell_type": "code",
      "execution_count": 11,
      "id": "bd0f7112",
      "metadata": {
        "colab": {
          "base_uri": "https://localhost:8080/"
        },
        "id": "bd0f7112",
        "outputId": "55ed2af8-5644-4b21-ecee-42d60c288c8c"
      },
      "outputs": [
        {
          "output_type": "stream",
          "name": "stdout",
          "text": [
            "Division by zero error\n"
          ]
        }
      ],
      "source": [
        "try:\n",
        "    result = 10 / 0\n",
        "except ZeroDivisionError:\n",
        "    print(\"Division by zero error\")"
      ]
    },
    {
      "cell_type": "markdown",
      "id": "06ded8c6",
      "metadata": {
        "id": "06ded8c6"
      },
      "source": [
        "6. Write a Python program that logs an error message to a log file when a division by zero exception occurs ?"
      ]
    },
    {
      "cell_type": "code",
      "execution_count": 12,
      "id": "426e6dba",
      "metadata": {
        "colab": {
          "base_uri": "https://localhost:8080/"
        },
        "id": "426e6dba",
        "outputId": "649841b4-5096-4aad-a03c-0db8abbe220b"
      },
      "outputs": [
        {
          "output_type": "stream",
          "name": "stderr",
          "text": [
            "ERROR:root:Division by zero occurred: division by zero\n"
          ]
        }
      ],
      "source": [
        "import logging\n",
        "logging.basicConfig(filename=\"error.log\", level=logging.ERROR)\n",
        "try:\n",
        "    result = 10 / 0\n",
        "except ZeroDivisionError as e:\n",
        "    logging.error(\"Division by zero occurred: %s\", e)"
      ]
    },
    {
      "cell_type": "markdown",
      "id": "f0688ed1",
      "metadata": {
        "id": "f0688ed1"
      },
      "source": [
        "7. How do you log information at different levels (INFO, ERROR, WARNING) in Python using the logging module ?"
      ]
    },
    {
      "cell_type": "code",
      "execution_count": 13,
      "id": "d998b2f0",
      "metadata": {
        "colab": {
          "base_uri": "https://localhost:8080/"
        },
        "id": "d998b2f0",
        "outputId": "48a43d22-e0da-4ed6-b895-acf73f309022"
      },
      "outputs": [
        {
          "output_type": "stream",
          "name": "stderr",
          "text": [
            "WARNING:root:This is warning\n",
            "ERROR:root:This is error\n"
          ]
        }
      ],
      "source": [
        "import logging\n",
        "logging.basicConfig(level=logging.DEBUG)\n",
        "logging.info(\"This is info\")\n",
        "logging.warning(\"This is warning\")\n",
        "logging.error(\"This is error\")"
      ]
    },
    {
      "cell_type": "markdown",
      "id": "1746bfbe",
      "metadata": {
        "id": "1746bfbe"
      },
      "source": [
        "8.  Write a program to handle a file opening error using exception handling ?"
      ]
    },
    {
      "cell_type": "code",
      "execution_count": 14,
      "id": "419cd12c",
      "metadata": {
        "colab": {
          "base_uri": "https://localhost:8080/"
        },
        "id": "419cd12c",
        "outputId": "52afb5fe-bcf0-4a77-ee4b-6f71857750bc"
      },
      "outputs": [
        {
          "output_type": "stream",
          "name": "stdout",
          "text": [
            "Error opening file\n"
          ]
        }
      ],
      "source": [
        "try:\n",
        "    with open(\"nofile.txt\", \"r\") as f:\n",
        "        print(f.read())\n",
        "except IOError:\n",
        "    print(\"Error opening file\")"
      ]
    },
    {
      "cell_type": "markdown",
      "id": "fecf6649",
      "metadata": {
        "id": "fecf6649"
      },
      "source": [
        "9. How can you read a file line by line and store its content in a list in Python ?"
      ]
    },
    {
      "cell_type": "code",
      "execution_count": 15,
      "id": "2efa4fd1",
      "metadata": {
        "colab": {
          "base_uri": "https://localhost:8080/"
        },
        "id": "2efa4fd1",
        "outputId": "aeafcb6d-ee9d-4fc9-e4dc-36dcc8a57643"
      },
      "outputs": [
        {
          "output_type": "stream",
          "name": "stdout",
          "text": [
            "['Hello, World!']\n"
          ]
        }
      ],
      "source": [
        "with open(\"test.txt\", \"r\") as f:\n",
        "    lines = f.readlines()\n",
        "print(lines)"
      ]
    },
    {
      "cell_type": "markdown",
      "id": "763d0968",
      "metadata": {
        "id": "763d0968"
      },
      "source": [
        "10. How can you append data to an existing file in Python ?"
      ]
    },
    {
      "cell_type": "code",
      "execution_count": 18,
      "id": "936ef644",
      "metadata": {
        "id": "936ef644"
      },
      "outputs": [],
      "source": [
        "with open(\"test.txt\", \"a\") as f:\n",
        "    f.write(\"\\nAppended line\")"
      ]
    },
    {
      "cell_type": "markdown",
      "id": "91fa591e",
      "metadata": {
        "id": "91fa591e"
      },
      "source": [
        "11. Write a Python program that uses a try-except block to handle an error when attempting to access a\n",
        "dictionary key that doesn't exist ?"
      ]
    },
    {
      "cell_type": "code",
      "execution_count": 17,
      "id": "213873a6",
      "metadata": {
        "colab": {
          "base_uri": "https://localhost:8080/"
        },
        "id": "213873a6",
        "outputId": "0284465e-f747-4fe8-cbd1-543d5f732b93"
      },
      "outputs": [
        {
          "output_type": "stream",
          "name": "stdout",
          "text": [
            "Key does not exist\n"
          ]
        }
      ],
      "source": [
        "try:\n",
        "    d = {\"a\": 1}\n",
        "    print(d[\"b\"])\n",
        "except KeyError:\n",
        "    print(\"Key does not exist\")"
      ]
    },
    {
      "cell_type": "markdown",
      "id": "8ef881af",
      "metadata": {
        "id": "8ef881af"
      },
      "source": [
        "12. Write a program that demonstrates using multiple except blocks to handle different types of exceptions ?"
      ]
    },
    {
      "cell_type": "code",
      "execution_count": 31,
      "id": "19595c2a",
      "metadata": {
        "colab": {
          "base_uri": "https://localhost:8080/"
        },
        "id": "19595c2a",
        "outputId": "ae40bd1e-18b3-4b21-9c5b-165149df99af"
      },
      "outputs": [
        {
          "output_type": "stream",
          "name": "stdout",
          "text": [
            "Value error\n"
          ]
        }
      ],
      "source": [
        "try:\n",
        "    x = int(\"abc\")\n",
        "except ValueError:\n",
        "    print(\"Value error\")\n",
        "except TypeError:\n",
        "    print(\"Type error\")"
      ]
    },
    {
      "cell_type": "markdown",
      "id": "c5789ced",
      "metadata": {
        "id": "c5789ced"
      },
      "source": [
        "13. How would you check if a file exists before attempting to read it in Python ?"
      ]
    },
    {
      "cell_type": "code",
      "execution_count": 20,
      "id": "82b66ba1",
      "metadata": {
        "colab": {
          "base_uri": "https://localhost:8080/"
        },
        "id": "82b66ba1",
        "outputId": "2e6d9936-6ca4-410e-9cc9-be84c6e72080"
      },
      "outputs": [
        {
          "output_type": "stream",
          "name": "stdout",
          "text": [
            "Hello, World!\n",
            "Appended line\n",
            "Appended line\n"
          ]
        }
      ],
      "source": [
        "import os\n",
        "if os.path.exists(\"test.txt\"):\n",
        "    with open(\"test.txt\", \"r\") as f:\n",
        "        print(f.read())"
      ]
    },
    {
      "cell_type": "markdown",
      "id": "1c9a124b",
      "metadata": {
        "id": "1c9a124b"
      },
      "source": [
        "14. Write a program that uses the logging module to log both informational and error messages ?"
      ]
    },
    {
      "cell_type": "code",
      "execution_count": 21,
      "id": "672f2ed8",
      "metadata": {
        "colab": {
          "base_uri": "https://localhost:8080/"
        },
        "id": "672f2ed8",
        "outputId": "e793a5f4-e9e5-41a1-f26c-a4515b024a68"
      },
      "outputs": [
        {
          "output_type": "stream",
          "name": "stderr",
          "text": [
            "ERROR:root:This is error\n"
          ]
        }
      ],
      "source": [
        "import logging\n",
        "logging.basicConfig(filename=\"app.log\", level=logging.INFO)\n",
        "logging.info(\"This is info\")\n",
        "logging.error(\"This is error\")"
      ]
    },
    {
      "cell_type": "markdown",
      "id": "d6a75448",
      "metadata": {
        "id": "d6a75448"
      },
      "source": [
        "15. Write a Python program that prints the content of a file and handles the case when the file is empty ?"
      ]
    },
    {
      "cell_type": "code",
      "execution_count": 22,
      "id": "df6cb275",
      "metadata": {
        "colab": {
          "base_uri": "https://localhost:8080/"
        },
        "id": "df6cb275",
        "outputId": "ba9661d9-bc25-41ca-9e52-1c132c3b2cfe"
      },
      "outputs": [
        {
          "output_type": "stream",
          "name": "stdout",
          "text": [
            "Hello, World!\n",
            "Appended line\n",
            "Appended line\n"
          ]
        }
      ],
      "source": [
        "with open(\"test.txt\", \"r\") as f:\n",
        "    content = f.read()\n",
        "    if content:\n",
        "        print(content)\n",
        "    else:\n",
        "        print(\"File is empty\")"
      ]
    },
    {
      "cell_type": "markdown",
      "id": "59e39425",
      "metadata": {
        "id": "59e39425"
      },
      "source": [
        "16.  Demonstrate how to use memory profiling to check the memory usage of a small program ?"
      ]
    },
    {
      "cell_type": "code",
      "execution_count": 23,
      "id": "fc7f88ca",
      "metadata": {
        "colab": {
          "base_uri": "https://localhost:8080/",
          "height": 383
        },
        "id": "fc7f88ca",
        "outputId": "8dc74142-ffca-4687-a9ef-8dad7ce2a286"
      },
      "outputs": [
        {
          "output_type": "error",
          "ename": "ModuleNotFoundError",
          "evalue": "No module named 'memory_profiler'",
          "traceback": [
            "\u001b[0;31m---------------------------------------------------------------------------\u001b[0m",
            "\u001b[0;31mModuleNotFoundError\u001b[0m                       Traceback (most recent call last)",
            "\u001b[0;32m/tmp/ipython-input-3068404030.py\u001b[0m in \u001b[0;36m<cell line: 0>\u001b[0;34m()\u001b[0m\n\u001b[1;32m      1\u001b[0m \u001b[0;31m# Install memory_profiler in your environment before running\u001b[0m\u001b[0;34m\u001b[0m\u001b[0;34m\u001b[0m\u001b[0m\n\u001b[0;32m----> 2\u001b[0;31m \u001b[0;32mfrom\u001b[0m \u001b[0mmemory_profiler\u001b[0m \u001b[0;32mimport\u001b[0m \u001b[0mprofile\u001b[0m\u001b[0;34m\u001b[0m\u001b[0;34m\u001b[0m\u001b[0m\n\u001b[0m\u001b[1;32m      3\u001b[0m \u001b[0;34m\u001b[0m\u001b[0m\n\u001b[1;32m      4\u001b[0m \u001b[0;34m@\u001b[0m\u001b[0mprofile\u001b[0m\u001b[0;34m\u001b[0m\u001b[0;34m\u001b[0m\u001b[0m\n\u001b[1;32m      5\u001b[0m \u001b[0;32mdef\u001b[0m \u001b[0mtest\u001b[0m\u001b[0;34m(\u001b[0m\u001b[0;34m)\u001b[0m\u001b[0;34m:\u001b[0m\u001b[0;34m\u001b[0m\u001b[0;34m\u001b[0m\u001b[0m\n",
            "\u001b[0;31mModuleNotFoundError\u001b[0m: No module named 'memory_profiler'",
            "",
            "\u001b[0;31m---------------------------------------------------------------------------\u001b[0;32m\nNOTE: If your import is failing due to a missing package, you can\nmanually install dependencies using either !pip or !apt.\n\nTo view examples of installing some common dependencies, click the\n\"Open Examples\" button below.\n\u001b[0;31m---------------------------------------------------------------------------\u001b[0m\n"
          ],
          "errorDetails": {
            "actions": [
              {
                "action": "open_url",
                "actionText": "Open Examples",
                "url": "/notebooks/snippets/importing_libraries.ipynb"
              }
            ]
          }
        }
      ],
      "source": [
        "# Install memory_profiler in your environment before running\n",
        "from memory_profiler import profile\n",
        "\n",
        "@profile\n",
        "def test():\n",
        "    a = [i for i in range(10000)]\n",
        "    return sum(a)\n",
        "\n",
        "test()"
      ]
    },
    {
      "cell_type": "markdown",
      "id": "1aff3064",
      "metadata": {
        "id": "1aff3064"
      },
      "source": [
        "17. Write a Python program to create and write a list of numbers to a file, one number per line ?"
      ]
    },
    {
      "cell_type": "code",
      "execution_count": 24,
      "id": "c7b8fdb0",
      "metadata": {
        "id": "c7b8fdb0"
      },
      "outputs": [],
      "source": [
        "with open(\"numbers.txt\", \"w\") as f:\n",
        "    for i in range(1, 11):\n",
        "        f.write(str(i) + \"\\n\")"
      ]
    },
    {
      "cell_type": "markdown",
      "id": "9c0d7133",
      "metadata": {
        "id": "9c0d7133"
      },
      "source": [
        "18. How would you implement a basic logging setup that logs to a file with rotation after 1MB ?"
      ]
    },
    {
      "cell_type": "code",
      "execution_count": 25,
      "id": "f54caaa6",
      "metadata": {
        "id": "f54caaa6"
      },
      "outputs": [],
      "source": [
        "import logging\n",
        "from logging.handlers import RotatingFileHandler\n",
        "\n",
        "handler = RotatingFileHandler(\"rotating.log\", maxBytes=1000000, backupCount=3)\n",
        "logging.basicConfig(handlers=[handler], level=logging.INFO)\n",
        "logging.info(\"Rotating log setup\")"
      ]
    },
    {
      "cell_type": "markdown",
      "id": "263763e7",
      "metadata": {
        "id": "263763e7"
      },
      "source": [
        "19. Write a program that handles both IndexError and KeyError using a try-except block ?"
      ]
    },
    {
      "cell_type": "code",
      "execution_count": 26,
      "id": "53101c5e",
      "metadata": {
        "colab": {
          "base_uri": "https://localhost:8080/"
        },
        "id": "53101c5e",
        "outputId": "67ea8200-f8aa-423e-9600-44df4df95b09"
      },
      "outputs": [
        {
          "output_type": "stream",
          "name": "stdout",
          "text": [
            "Index error\n"
          ]
        }
      ],
      "source": [
        "try:\n",
        "    l = [1, 2, 3]\n",
        "    print(l[5])\n",
        "    d = {\"a\": 1}\n",
        "    print(d[\"b\"])\n",
        "except IndexError:\n",
        "    print(\"Index error\")\n",
        "except KeyError:\n",
        "    print(\"Key error\")"
      ]
    },
    {
      "cell_type": "markdown",
      "id": "dbcdfac0",
      "metadata": {
        "id": "dbcdfac0"
      },
      "source": [
        "20. How would you open a file and read its contents using a context manager in Python ?"
      ]
    },
    {
      "cell_type": "code",
      "execution_count": 27,
      "id": "bd7ac906",
      "metadata": {
        "colab": {
          "base_uri": "https://localhost:8080/"
        },
        "id": "bd7ac906",
        "outputId": "9c3c8eba-8a2b-471d-f14e-aad3dd4c8af5"
      },
      "outputs": [
        {
          "output_type": "stream",
          "name": "stdout",
          "text": [
            "Hello, World!\n",
            "Appended line\n",
            "Appended line\n"
          ]
        }
      ],
      "source": [
        "with open(\"test.txt\", \"r\") as f:\n",
        "    print(f.read())"
      ]
    },
    {
      "cell_type": "markdown",
      "id": "ffa73086",
      "metadata": {
        "id": "ffa73086"
      },
      "source": [
        "21. Write a Python program that reads a file and prints the number of occurrences of a specific word ?"
      ]
    },
    {
      "cell_type": "code",
      "execution_count": 28,
      "id": "c1fe6244",
      "metadata": {
        "colab": {
          "base_uri": "https://localhost:8080/"
        },
        "id": "c1fe6244",
        "outputId": "a3b256fc-6193-4a35-ca8f-9f57deca812c"
      },
      "outputs": [
        {
          "output_type": "stream",
          "name": "stdout",
          "text": [
            "Occurrences: 0\n"
          ]
        }
      ],
      "source": [
        "word = \"test\"\n",
        "count = 0\n",
        "with open(\"test.txt\", \"r\") as f:\n",
        "    for line in f:\n",
        "        count += line.split().count(word)\n",
        "print(\"Occurrences:\", count)"
      ]
    },
    {
      "cell_type": "markdown",
      "id": "b26e4f0e",
      "metadata": {
        "id": "b26e4f0e"
      },
      "source": [
        "22. How can you check if a file is empty before attempting to read its contents ?"
      ]
    },
    {
      "cell_type": "code",
      "execution_count": 29,
      "id": "541eb0a6",
      "metadata": {
        "id": "541eb0a6"
      },
      "outputs": [],
      "source": [
        "import os\n",
        "if os.path.getsize(\"test.txt\") == 0:\n",
        "    print(\"File is empty\")"
      ]
    },
    {
      "cell_type": "markdown",
      "id": "f8a2bed7",
      "metadata": {
        "id": "f8a2bed7"
      },
      "source": [
        "23. Write a Python program that writes to a log file when an error occurs during file handling ?"
      ]
    },
    {
      "cell_type": "code",
      "execution_count": 30,
      "id": "5dc361c8",
      "metadata": {
        "colab": {
          "base_uri": "https://localhost:8080/"
        },
        "id": "5dc361c8",
        "outputId": "15f133f4-0517-4f9f-c82d-3e9a6e987fce"
      },
      "outputs": [
        {
          "output_type": "stream",
          "name": "stderr",
          "text": [
            "ERROR:root:Error: [Errno 2] No such file or directory: 'nofile.txt'\n"
          ]
        }
      ],
      "source": [
        "import logging\n",
        "logging.basicConfig(filename=\"file_error.log\", level=logging.ERROR)\n",
        "try:\n",
        "    with open(\"nofile.txt\", \"r\") as f:\n",
        "        print(f.read())\n",
        "except Exception as e:\n",
        "    logging.error(\"Error: %s\", e)"
      ]
    }
  ],
  "metadata": {
    "colab": {
      "provenance": []
    },
    "language_info": {
      "name": "python"
    },
    "kernelspec": {
      "name": "python3",
      "display_name": "Python 3"
    }
  },
  "nbformat": 4,
  "nbformat_minor": 5
}