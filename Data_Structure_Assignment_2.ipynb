{
  "nbformat": 4,
  "nbformat_minor": 0,
  "metadata": {
    "colab": {
      "provenance": []
    },
    "kernelspec": {
      "name": "python3",
      "display_name": "Python 3"
    },
    "language_info": {
      "name": "python"
    }
  },
  "cells": [
    {
      "cell_type": "markdown",
      "source": [
        "# ***Theory Questions***\n"
      ],
      "metadata": {
        "id": "hPSvGtFURcLy"
      }
    },
    {
      "cell_type": "markdown",
      "source": [
        "1. What are data structures, and why are they important ?\n",
        "\n",
        "    - A data structure is a way of organizing, storing, and managing data so it can be used efficiently.\n",
        "    - Data Structure is important because:\n",
        "    \n",
        "      i. Efficiency\n",
        "        - Choosing the right data structure can drastically improve speed and memory usage.  \n",
        "\n",
        "      ii. Scalability\n",
        "        - The right structure can handle growing amounts of data without breaking or slowing too much.\n",
        "\n",
        "      iii. Better Problem-Solving\n",
        "        - Many algorithms rely on specific data structures\n",
        "\n",
        "      iv. Maintainability\n",
        "        - Organized data is easier to update, debug, and extend.\n",
        "\n",
        "---\n",
        "2. Explain the difference between mutable and immutable data types with examples\n",
        "\n",
        "    i. Mutable Data Types:\n",
        "      \n",
        "      - You can change their contents without changing their identity.\n",
        "      - Example:\n",
        "\n",
        "      my_list = [1, 2, 3]\n",
        "\n",
        "      print(id(my_list))   # Memory address before change\n",
        "\n",
        "      my_list.append(4)    # Modify the list\n",
        "\n",
        "      print(my_list)       # [1, 2, 3, 4]\n",
        "\n",
        "      print(id(my_list))   # Same memory address → still the same object\n",
        "\n",
        "  ii. Immutable Data Types:\n",
        "\n",
        "      - Once created, their contents cannot be changed. Any \"change\" creates a new object in memory.\n",
        "      - Example:\n",
        "\n",
        "      my_string = \"Hello\"\n",
        "      \n",
        "      print(id(my_string))   # Memory address before change\n",
        "      \n",
        "      my_string += \" World\"  # This creates a *new* string object\n",
        "      \n",
        "      print(my_string)       # \"Hello World\"\n",
        "      \n",
        "      print(id(my_string))   # Different memory address → new object\n",
        "\n",
        "---\n",
        "3. What are the main differences between lists and tuples in Python ?\n",
        "\n",
        "    i. List\n",
        "    - You can add, remove, or modify elements after creation.\n",
        "    - Uses square brackets []\n",
        "    - Use when you need a collection that might change.\n",
        "    - Lists have more methods like .append(), .extend(), .remove(), .sort().\n",
        "\n",
        "  ii. Tuples\n",
        "    - Once created, elements cannot be changed.\n",
        "    - Uses parentheses ()\n",
        "    - Use when the data should remain constant\n",
        "    - Tuples have only a few (count(), index()).\n",
        "\n",
        "---\n",
        "4. Describe how dictionaries store data ?\n",
        "\n",
        "    - In Python, dictionaries store data as key-value pairs using a hash table for fast lookups. Each key is immutable and is passed through a hash function to produce a hash value, which determines its slot in an internal array.\n",
        "    - The value is stored alongside the key and its hash. If two keys hash to the same slot (collision), Python uses open addressing to find another available slot.\n",
        "    - This design allows dictionary operations like insertions and lookups to work in O(1) time on average, though it uses extra memory to keep performance high.\n",
        "\n",
        "---\n",
        "5. Why might you use a set instead of a list in Python ?\n",
        "\n",
        "    - You might use a set instead of a list in Python when you need to store unique elements and perform fast membership checks.\n",
        "    - A set automatically removes duplicates, while a list can hold repeated values.\n",
        "    - Sets use a hash table internally, so checking if an item exists is O(1) on average, compared to O(n) for a list.\n",
        "    - Sets provide efficient mathematical operations like union (|), intersection (&), and difference (-), which are slower to implement with lists.\n",
        "\n",
        "---\n",
        "6. What is a string in Python, and how is it different from a list ?\n",
        "\n",
        "    - In Python, a string is an immutable sequence of characters used to store text, while a list is a mutable sequence that can store elements of any data type.\n",
        "    - Strings cannot be changed after creation (immutable), but lists can be modified (mutable).\n",
        "    - A string only contains characters, whereas a list can contain mixed data types\n",
        "    - Strings use quotes (\"Hello\" or 'Heylo'), lists use square brackets ([1, \"Hii\", 3.5]).\n",
        "\n",
        "---\n",
        "7. How do tuples ensure data integrity in Python ?\n",
        "\n",
        "    - Tuples ensure data integrity in Python because they are immutable, meaning their contents cannot be changed after creation.\n",
        "    - Once you define a tuple, you cannot add, remove, or modify its elements any \"change\" would require creating an entirely new tuple.\n",
        "---\n",
        "8. What is a hash table, and how does it relate to dictionaries in Python ?\n",
        "\n",
        "    - A hash table is a data structure that stores data in key-value pairs and uses a hash function to quickly map each key to a position (slot) in memory.\n",
        "    - In Python, dictionaries are implemented using hash tables. When you store a key-value pair in a dictionary:\n",
        "      \n",
        "      - Python hashes the key (using the built-in hash() function) to get an integer.\n",
        "      - That integer is mapped to a slot in the dictionary is internal array.\n",
        "      - The value is stored in that slot alongside the key and its hash.\n",
        "      - If another key is hash points to the same slot (collision), Python uses open addressing to find the next available slot.\n",
        "\n",
        "---\n",
        "9.  Can lists contain different data types in Python ?\n",
        "\n",
        "    - Yes, in Python, lists can contain elements of different data types in the same list.\n",
        "    - This is possible because Python lists store references to objects, not the raw data itself, so each element can point to a value of any type.\n",
        "\n",
        "---\n",
        "10. Explain why strings are immutable in Python ?\n",
        "\n",
        "    - Strings are immutable in Python because once a string object is created, its contents cannot be changed.\n",
        "    - Since strings are widely used, Python can reuse the same string object in memory for identical values, saving memory.\n",
        "    -  Immutable strings can safely be used as keys in dictionaries and elements in sets, because their hash value will never change.\n",
        "    - In multi-threaded programs, immutable objects are safe to share without worrying about unexpected modifications.\n",
        "    - Since strings never change, code is easier to reason about and debug.\n",
        "\n",
        "---\n",
        "11. What advantages do dictionaries offer over lists for certain tasks ?\n",
        "\n",
        "    - Dictionaries in Python store data as key-value pairs using a hash table, allowing much faster lookups (O(1) average time) than lists, which require searching through elements.\n",
        "    - They use descriptive keys instead of numeric indexes, making data easier to read and manage, and are ideal for unordered, mapped data like names and phone numbers.\n",
        "    - Dictionaries also allow easy addition, updating, and removal of entries without shifting other elements, offering more flexibility than lists for many tasks.\n",
        "---\n",
        "12.  Describe a scenario where using a tuple would be preferable over a list ?\n",
        "\n",
        "    - A tuple is preferable over a list when you need to store fixed, unchangeable data that must remain constant throughout the program.\n",
        "    - For example, if you are storing the latitude and longitude of a location:\n",
        "\n",
        "      coordinates = (40.7128, -74.0060)  # New York City\n",
        "    - Since these values should not be altered accidentally, a tuple ensures data integrity through immutability.\n",
        "    - This makes tuples ideal for constant configurations, database record fields, days of the week, or any dataset where modification is not intended.\n",
        "---\n",
        "13.  How do sets handle duplicate values in Python ?\n",
        "\n",
        "    - In Python, sets automatically remove duplicate values because they are designed to store only unique elements.\n",
        "    - When you create a set, Python uses a hash table internally. Each new element is hash value is checked before adding it, if an element with the same hash already exists, the duplicate is ignored.\n",
        "\n",
        "---\n",
        "14.  How does the “in” keyword work differently for lists and dictionaries ?\n",
        "\n",
        "    - In Python, the in keyword behaves differently for lists and dictionaries because of how each stores and searches data.\n",
        "    - For lists,  \"in\" checks if a value exists by scanning through elements one by one\n",
        "    - For dictionaries, \"in\" checks if a key exists, not a value, by looking it up in the hash table.\n",
        "\n",
        "---\n",
        "15.  Can you modify the elements of a tuple? Explain why or why not ?\n",
        "\n",
        "    - No, you cannot modify the elements of a tuple in Python because tuples are immutable.\n",
        "\n",
        "    - Once a tuple is created, its contents are fixed, and any attempt to change, add, or remove elements will raise a TypeError. This immutability ensures data integrity, makes tuples safe for use as dictionary keys or set elements, and allows Python to optimize memory usage.\n",
        "\n",
        "---\n",
        "16. What is a nested dictionary, and give an example of its use case ?\n",
        "\n",
        "    - A nested dictionary is a dictionary where one or more values are themselves dictionaries. It allows you to store structured, hierarchical data in a compact way.\n",
        "    - Example:\n",
        "\n",
        "      students = {\"Alice\": {\"age\": 20, \"grade\": \"A\"}, \"Bob\": {\"age\": 22, \"grade\": \"B\"},}\n",
        "\n",
        "      print(students[\"Alice\"][\"grade\"])\n",
        "\n",
        "---\n",
        "17.  Describe the time complexity of accessing elements in a dictionary ?\n",
        "\n",
        "    - Accessing elements in a dictionary is O(1) on average because dictionaries use a hash table.\n",
        "    - Python hashes the key, finds the corresponding slot in memory, and retrieves the value directly without scanning through all items.\n",
        "    - In the worst case (many hash collisions), access can degrade to O(n), but this is rare.\n",
        "\n",
        "---\n",
        "18. In what situations are lists preferred over dictionaries ?\n",
        "\n",
        "    - Lists are better when:\n",
        "\n",
        "      - Order matters (lists preserve insertion order and allow indexing by position).\n",
        "\n",
        "      - You have sequential data where elements are accessed by position rather than by a unique key.\n",
        "\n",
        "      - The dataset is small, making dictionary overhead unnecessary.\n",
        "\n",
        "      - You need to store duplicate values, which dictionaries can’t do for keys.\n",
        "\n",
        "---\n",
        "19. Why are dictionaries considered unordered, and how does that affect data retrieval ?\n",
        "\n",
        "    - Before Python 3.7, dictionaries did not preserve insertion order, the key order in iteration was unpredictable because elements were placed based on their hash values.\n",
        "    - From Python 3.7 onward, dictionaries do preserve insertion order, but they are still logically unordered, meaning order should not be relied upon for correctness in algorithms unless explicitly needed.\n",
        "    - This means data retrieval is by key, not by position — you can't do dict[0] to get the “first” item like in a list.\n",
        "\n",
        "---\n",
        "20.  Explain the difference between a list and a dictionary in terms of data retrieval ?\n",
        "\n",
        "    - List\n",
        "\n",
        "       Retrieval is by index position (list[2] gets the third element), which takes O(1) time but only works if you know the position.\n",
        "\n",
        "    - Dictionary\n",
        "\n",
        "       Retrieval is by key (dict[\"name\"] gets the value for \"name\"), which takes O(1) time on average and is more descriptive but requires knowing the exact key.\n",
        "---\n",
        "---"
      ],
      "metadata": {
        "id": "gsVCHt2YRmE7"
      }
    },
    {
      "cell_type": "markdown",
      "source": [
        "# ***Practical Questions***"
      ],
      "metadata": {
        "id": "K61BjHyVSi7F"
      }
    },
    {
      "cell_type": "markdown",
      "source": [
        "1.  Write a code to create a string with your name and print it."
      ],
      "metadata": {
        "id": "qOtRa91ESt4M"
      }
    },
    {
      "cell_type": "code",
      "source": [
        "name = \"Durvesh Mhatre\"\n",
        "print(name)"
      ],
      "metadata": {
        "id": "-AgJUX9zTFpR",
        "colab": {
          "base_uri": "https://localhost:8080/"
        },
        "outputId": "25b89c29-903a-4ee4-bf1e-354ad7df98d7"
      },
      "execution_count": 2,
      "outputs": [
        {
          "output_type": "stream",
          "name": "stdout",
          "text": [
            "Durvesh Mhatre\n"
          ]
        }
      ]
    },
    {
      "cell_type": "markdown",
      "source": [
        "2. Write a code to find the length of the string \"Hello World\"."
      ],
      "metadata": {
        "id": "zPFE83AaS2Ke"
      }
    },
    {
      "cell_type": "code",
      "source": [
        "heylotxt = \"Hello World\"\n",
        "print(len(heylotxt))\n"
      ],
      "metadata": {
        "id": "e2F6wfsYTGgB",
        "colab": {
          "base_uri": "https://localhost:8080/"
        },
        "outputId": "b71cdc71-dfcd-4374-eaab-990acb1a89b7"
      },
      "execution_count": 3,
      "outputs": [
        {
          "output_type": "stream",
          "name": "stdout",
          "text": [
            "11\n"
          ]
        }
      ]
    },
    {
      "cell_type": "markdown",
      "source": [
        "3. Write a code to slice the first 3 characters from the string \"Python Programming\"."
      ],
      "metadata": {
        "id": "Fg0rNjZCTD5Z"
      }
    },
    {
      "cell_type": "code",
      "source": [
        "word = \"Python Programming\"\n",
        "print(word[:3])"
      ],
      "metadata": {
        "id": "8YX2ORvOTHcE",
        "colab": {
          "base_uri": "https://localhost:8080/"
        },
        "outputId": "a8dd0696-626d-489f-969a-b1f1865dcb9f"
      },
      "execution_count": 4,
      "outputs": [
        {
          "output_type": "stream",
          "name": "stdout",
          "text": [
            "Pyt\n"
          ]
        }
      ]
    },
    {
      "cell_type": "markdown",
      "source": [
        " 4. Write a code to convert the string \"hello\" to uppercase."
      ],
      "metadata": {
        "id": "uC3EpWDcTDuJ"
      }
    },
    {
      "cell_type": "code",
      "source": [
        "word = \"hello\"\n",
        "print(word.upper())"
      ],
      "metadata": {
        "id": "boHdeF1sTIKr",
        "colab": {
          "base_uri": "https://localhost:8080/"
        },
        "outputId": "1f34dd5b-3995-4659-afd8-f59a3c1664ed"
      },
      "execution_count": 5,
      "outputs": [
        {
          "output_type": "stream",
          "name": "stdout",
          "text": [
            "HELLO\n"
          ]
        }
      ]
    },
    {
      "cell_type": "markdown",
      "source": [
        " 5. Write a code to replace the word \"apple\" with \"orange\" in the string \"I like apple\"."
      ],
      "metadata": {
        "id": "RAzHSm0HTDgx"
      }
    },
    {
      "cell_type": "code",
      "source": [
        "sentence = \"I like apple\"\n",
        "print(sentence.replace(\"apple\", \"orange\"))"
      ],
      "metadata": {
        "id": "V_gkyElaTI2Q",
        "colab": {
          "base_uri": "https://localhost:8080/"
        },
        "outputId": "bf3e2375-1e3e-44a6-a3b6-8418ba8f5add"
      },
      "execution_count": 6,
      "outputs": [
        {
          "output_type": "stream",
          "name": "stdout",
          "text": [
            "I like orange\n"
          ]
        }
      ]
    },
    {
      "cell_type": "markdown",
      "source": [
        " 6. Write a code to create a list with numbers 1 to 5 and print it."
      ],
      "metadata": {
        "id": "RHvHTaIJTDHq"
      }
    },
    {
      "cell_type": "code",
      "source": [
        "numbers_list = [1, 2, 3, 4, 5]\n",
        "print(numbers_list)"
      ],
      "metadata": {
        "id": "JZO0w8ChTKjq",
        "colab": {
          "base_uri": "https://localhost:8080/"
        },
        "outputId": "da2f7617-cee9-422b-d7ff-3abbbda3ea5e"
      },
      "execution_count": 8,
      "outputs": [
        {
          "output_type": "stream",
          "name": "stdout",
          "text": [
            "[1, 2, 3, 4, 5]\n"
          ]
        }
      ]
    },
    {
      "cell_type": "markdown",
      "source": [
        "7. Write a code to append the number 10 to the list [1, 2, 3, 4]."
      ],
      "metadata": {
        "id": "VP4lZp8uTC8u"
      }
    },
    {
      "cell_type": "code",
      "source": [
        "num_list = [1, 2, 3, 4]\n",
        "num_list.append(10)\n",
        "print(numbers_list)"
      ],
      "metadata": {
        "id": "V8G1xEgQTLDz",
        "colab": {
          "base_uri": "https://localhost:8080/"
        },
        "outputId": "2b49295f-8f62-440e-b738-36e498ae9ace"
      },
      "execution_count": 9,
      "outputs": [
        {
          "output_type": "stream",
          "name": "stdout",
          "text": [
            "[1, 2, 3, 4, 5]\n"
          ]
        }
      ]
    },
    {
      "cell_type": "markdown",
      "source": [
        " 8. Write a code to remove the number 3 from the list [1, 2, 3, 4, 5]."
      ],
      "metadata": {
        "id": "7i7equ3UTCyV"
      }
    },
    {
      "cell_type": "code",
      "source": [
        "my_list = [1, 2, 3, 4, 5]\n",
        "my_list.remove(3)\n",
        "print(my_list)"
      ],
      "metadata": {
        "id": "tLwgul4MTLpf",
        "colab": {
          "base_uri": "https://localhost:8080/"
        },
        "outputId": "e2a92171-c358-4aaf-b3c5-5dbb60c1b9a0"
      },
      "execution_count": 10,
      "outputs": [
        {
          "output_type": "stream",
          "name": "stdout",
          "text": [
            "[1, 2, 4, 5]\n"
          ]
        }
      ]
    },
    {
      "cell_type": "markdown",
      "source": [
        " 9. Write a code to access the second element in the list ['a', 'b', 'c', 'd']."
      ],
      "metadata": {
        "id": "letVu5DOTCnD"
      }
    },
    {
      "cell_type": "code",
      "source": [
        "letters = ['a', 'b', 'c', 'd']\n",
        "print(letters[1])"
      ],
      "metadata": {
        "id": "FWNrM83jTMyQ",
        "colab": {
          "base_uri": "https://localhost:8080/"
        },
        "outputId": "be9d9a52-19fc-4295-9e82-b88096f66a79"
      },
      "execution_count": 11,
      "outputs": [
        {
          "output_type": "stream",
          "name": "stdout",
          "text": [
            "b\n"
          ]
        }
      ]
    },
    {
      "cell_type": "markdown",
      "source": [
        " 10. Write a code to reverse the list [10, 20, 30, 40, 50]."
      ],
      "metadata": {
        "id": "v1S_GBGHTCdB"
      }
    },
    {
      "cell_type": "code",
      "source": [
        "data = [10, 20, 30, 40, 50]\n",
        "data.reverse()\n",
        "print(data)"
      ],
      "metadata": {
        "id": "5EGDxQpATNM9",
        "colab": {
          "base_uri": "https://localhost:8080/"
        },
        "outputId": "d0e7ec5c-e4fa-4f20-f9de-4fa09219950d"
      },
      "execution_count": 12,
      "outputs": [
        {
          "output_type": "stream",
          "name": "stdout",
          "text": [
            "[50, 40, 30, 20, 10]\n"
          ]
        }
      ]
    },
    {
      "cell_type": "markdown",
      "source": [
        " 11 Write a code to create a tuple with the elements 100, 200, 300 and print it."
      ],
      "metadata": {
        "id": "U1_8tzOETCTT"
      }
    },
    {
      "cell_type": "code",
      "source": [
        "tup = (100, 200, 300)\n",
        "print(tup)"
      ],
      "metadata": {
        "id": "D5ccnuVUTNr7",
        "colab": {
          "base_uri": "https://localhost:8080/"
        },
        "outputId": "6c2dcad3-85f0-4ab4-804d-4a6ae2f5efad"
      },
      "execution_count": 13,
      "outputs": [
        {
          "output_type": "stream",
          "name": "stdout",
          "text": [
            "(100, 200, 300)\n"
          ]
        }
      ]
    },
    {
      "cell_type": "markdown",
      "source": [
        " 12. Write a code to access the second-to-last element of the tuple ('red', 'green', 'blue', 'yellow').\n"
      ],
      "metadata": {
        "id": "wzI5Ph2rTCKs"
      }
    },
    {
      "cell_type": "code",
      "source": [
        "colors = ('red', 'green', 'blue', 'yellow')\n",
        "print(colors[2])"
      ],
      "metadata": {
        "id": "z4Zvw7Q7TOLL",
        "colab": {
          "base_uri": "https://localhost:8080/"
        },
        "outputId": "ee9830ec-3912-4657-ffec-890e731bc4ee"
      },
      "execution_count": 14,
      "outputs": [
        {
          "output_type": "stream",
          "name": "stdout",
          "text": [
            "blue\n"
          ]
        }
      ]
    },
    {
      "cell_type": "markdown",
      "source": [
        " 13. Write a code to find the minimum number in the tuple (10, 20, 5, 15).\n"
      ],
      "metadata": {
        "id": "bU0eJSfUTCBX"
      }
    },
    {
      "cell_type": "code",
      "source": [
        "nums = (10, 20, 5, 15)\n",
        "print(min(nums))"
      ],
      "metadata": {
        "id": "YUAMG0ctTOzK",
        "colab": {
          "base_uri": "https://localhost:8080/"
        },
        "outputId": "3f52e273-2f98-4912-a86e-ed683db8893b"
      },
      "execution_count": 15,
      "outputs": [
        {
          "output_type": "stream",
          "name": "stdout",
          "text": [
            "5\n"
          ]
        }
      ]
    },
    {
      "cell_type": "markdown",
      "source": [
        " 14. Write a code to find the index of the element \"cat\" in the tuple ('dog', 'cat', 'rabbit').\n"
      ],
      "metadata": {
        "id": "tU6FiAYVTBvk"
      }
    },
    {
      "cell_type": "code",
      "source": [
        "animals = ('dog', 'cat', 'rabbit')\n",
        "print(animals.index(\"cat\"))"
      ],
      "metadata": {
        "id": "9Rso0CiuTPpX",
        "colab": {
          "base_uri": "https://localhost:8080/"
        },
        "outputId": "5c42604d-2cd0-42a3-cde7-985d79ad24a4"
      },
      "execution_count": 16,
      "outputs": [
        {
          "output_type": "stream",
          "name": "stdout",
          "text": [
            "1\n"
          ]
        }
      ]
    },
    {
      "cell_type": "markdown",
      "source": [
        " 15. Write a code to create a tuple containing three different fruits and check if \"kiwi\" is in it.\n"
      ],
      "metadata": {
        "id": "QdlNDo2qTBle"
      }
    },
    {
      "cell_type": "code",
      "source": [
        "fruits = (\"apple\", \"banana\", \"mango\")\n",
        "print(\"kiwi\" in fruits)"
      ],
      "metadata": {
        "id": "VXHbW0_bTQTi",
        "colab": {
          "base_uri": "https://localhost:8080/"
        },
        "outputId": "19be48fb-3975-4d27-c2b9-37c8bb34e2e8"
      },
      "execution_count": 17,
      "outputs": [
        {
          "output_type": "stream",
          "name": "stdout",
          "text": [
            "False\n"
          ]
        }
      ]
    },
    {
      "cell_type": "markdown",
      "source": [
        " 16. Write a code to create a set with the elements 'a', 'b', 'c' and print it.\n"
      ],
      "metadata": {
        "id": "o6T_4Ps-TBa_"
      }
    },
    {
      "cell_type": "code",
      "source": [
        "my_set = {'a', 'b', 'c'}\n",
        "print(my_set)"
      ],
      "metadata": {
        "id": "MPh0irHMTQph",
        "colab": {
          "base_uri": "https://localhost:8080/"
        },
        "outputId": "39d72b70-2376-4e5b-8360-195228247c9d"
      },
      "execution_count": 24,
      "outputs": [
        {
          "output_type": "stream",
          "name": "stdout",
          "text": [
            "{'b', 'a', 'c'}\n"
          ]
        }
      ]
    },
    {
      "cell_type": "markdown",
      "source": [
        " 17. Write a code to clear all elements from the set {1, 2, 3, 4, 5}.\n"
      ],
      "metadata": {
        "id": "gDSFt5mnTBNz"
      }
    },
    {
      "cell_type": "code",
      "source": [
        "num_set = {1, 2, 3, 4, 5}\n",
        "num_set.clear()\n",
        "print(num_set)"
      ],
      "metadata": {
        "id": "jYpg5JETTRMc",
        "colab": {
          "base_uri": "https://localhost:8080/"
        },
        "outputId": "b6ae19d3-2b1c-4818-fbdf-7850fa1ef0e8"
      },
      "execution_count": 25,
      "outputs": [
        {
          "output_type": "stream",
          "name": "stdout",
          "text": [
            "set()\n"
          ]
        }
      ]
    },
    {
      "cell_type": "markdown",
      "source": [
        " 18. Write a code to remove the element 4 from the set {1, 2, 3, 4}.\n"
      ],
      "metadata": {
        "id": "9eF3foypTBDv"
      }
    },
    {
      "cell_type": "code",
      "source": [
        "set_nums = {1, 2, 3, 4}\n",
        "set_nums.remove(4)\n",
        "print(set_nums)"
      ],
      "metadata": {
        "id": "pI_n2rlOTT4R",
        "colab": {
          "base_uri": "https://localhost:8080/"
        },
        "outputId": "759fd592-0e54-4bcf-94e1-cb273fee2f22"
      },
      "execution_count": 26,
      "outputs": [
        {
          "output_type": "stream",
          "name": "stdout",
          "text": [
            "{1, 2, 3}\n"
          ]
        }
      ]
    },
    {
      "cell_type": "markdown",
      "source": [
        " 19. Write a code to find the union of two sets {1, 2, 3} and {3, 4, 5}.\n"
      ],
      "metadata": {
        "id": "w7TIKwWXTA5T"
      }
    },
    {
      "cell_type": "code",
      "source": [
        "set1 = {1, 2, 3}\n",
        "set2 = {3, 4, 5}\n",
        "print(set1.union(set2))"
      ],
      "metadata": {
        "id": "KdzSZgf2TZUz",
        "colab": {
          "base_uri": "https://localhost:8080/"
        },
        "outputId": "9781a04b-1b44-467e-f07b-fa04b5b0a5b7"
      },
      "execution_count": 27,
      "outputs": [
        {
          "output_type": "stream",
          "name": "stdout",
          "text": [
            "{1, 2, 3, 4, 5}\n"
          ]
        }
      ]
    },
    {
      "cell_type": "markdown",
      "source": [
        " 20. Write a code to find the intersection of two sets {1, 2, 3} and {2, 3, 4}."
      ],
      "metadata": {
        "id": "Ov-yBsjKTAvT"
      }
    },
    {
      "cell_type": "code",
      "source": [
        "set1 = {1, 2, 3}\n",
        "set2 = {3, 4, 5}\n",
        "print(set1.intersection({2, 3, 4}))"
      ],
      "metadata": {
        "id": "8YuYnnqtTZ3g",
        "colab": {
          "base_uri": "https://localhost:8080/"
        },
        "outputId": "02fbbb42-2f82-480c-8241-776017d78ffa"
      },
      "execution_count": 28,
      "outputs": [
        {
          "output_type": "stream",
          "name": "stdout",
          "text": [
            "{2, 3}\n"
          ]
        }
      ]
    },
    {
      "cell_type": "markdown",
      "source": [
        "21. Write a code to create a dictionary with the keys \"name\", \"age\", and \"city\", and print it."
      ],
      "metadata": {
        "id": "SmOxyvb5TAmf"
      }
    },
    {
      "cell_type": "code",
      "source": [
        "person = {\"name\": \"Alice\", \"age\": 30, \"city\": \"New York\"}\n",
        "print(person)"
      ],
      "metadata": {
        "id": "7lae5sXNTaUX",
        "colab": {
          "base_uri": "https://localhost:8080/"
        },
        "outputId": "c9bf66b1-cc6d-4e8b-8f4e-c1cdbfe06067"
      },
      "execution_count": 29,
      "outputs": [
        {
          "output_type": "stream",
          "name": "stdout",
          "text": [
            "{'name': 'Alice', 'age': 30, 'city': 'New York'}\n"
          ]
        }
      ]
    },
    {
      "cell_type": "markdown",
      "source": [
        " 22. Write a code to add a new key-value pair \"country\": \"USA\" to the dictionary {'name': 'John', 'age': 25}"
      ],
      "metadata": {
        "id": "YR7DQveMTAdX"
      }
    },
    {
      "cell_type": "code",
      "source": [
        "person2 = {'name': 'John', 'age': 25}\n",
        "person2[\"country\"] = \"USA\"\n",
        "print(person2)"
      ],
      "metadata": {
        "id": "aR9ByISYTbBB",
        "colab": {
          "base_uri": "https://localhost:8080/"
        },
        "outputId": "3f225a80-12a9-4bcb-e1d0-0a46613823a5"
      },
      "execution_count": 30,
      "outputs": [
        {
          "output_type": "stream",
          "name": "stdout",
          "text": [
            "{'name': 'John', 'age': 25, 'country': 'USA'}\n"
          ]
        }
      ]
    },
    {
      "cell_type": "markdown",
      "source": [
        " 23. Write a code to access the value associated with the key \"name\" in the dictionary {'name': 'Alice', 'age': 30}."
      ],
      "metadata": {
        "id": "OgLpYzcLTAUQ"
      }
    },
    {
      "cell_type": "code",
      "source": [
        "person = {'name': 'Alice', 'age': 30}\n",
        "print(person[\"name\"])"
      ],
      "metadata": {
        "id": "4l3LKR9LUMDO",
        "colab": {
          "base_uri": "https://localhost:8080/"
        },
        "outputId": "522615c9-3b97-4da1-b8b1-9a3164bf0c5c"
      },
      "execution_count": 31,
      "outputs": [
        {
          "output_type": "stream",
          "name": "stdout",
          "text": [
            "Alice\n"
          ]
        }
      ]
    },
    {
      "cell_type": "markdown",
      "source": [
        " 24. Write a code to remove the key \"age\" from the dictionary {'name': 'Bob', 'age': 22, 'city': 'New York'}.\n"
      ],
      "metadata": {
        "id": "BH2KeTe4TAK4"
      }
    },
    {
      "cell_type": "code",
      "source": [
        "person2 = {'name': 'Bob', 'age': 22, 'city': 'New York'}\n",
        "del person2[\"age\"]\n",
        "print(person2)"
      ],
      "metadata": {
        "id": "D7jJmnbiUMYq",
        "colab": {
          "base_uri": "https://localhost:8080/"
        },
        "outputId": "e3ad62a3-a23c-414b-beaa-6ac34f7fb245"
      },
      "execution_count": 32,
      "outputs": [
        {
          "output_type": "stream",
          "name": "stdout",
          "text": [
            "{'name': 'Bob', 'city': 'New York'}\n"
          ]
        }
      ]
    },
    {
      "cell_type": "markdown",
      "source": [
        " 25. Write a code to check if the key \"city\" exists in the dictionary {'name': 'Alice', 'city': 'Paris'}.\n"
      ],
      "metadata": {
        "id": "szJOh5PHTABU"
      }
    },
    {
      "cell_type": "code",
      "source": [
        "person3 = {'name': 'Alice', 'city': 'Paris'}\n",
        "print(\"city\" in person3)\n"
      ],
      "metadata": {
        "id": "puejugGdUMtG",
        "colab": {
          "base_uri": "https://localhost:8080/"
        },
        "outputId": "69ca49e2-3684-4b5a-984a-375d3dc4f89d"
      },
      "execution_count": 33,
      "outputs": [
        {
          "output_type": "stream",
          "name": "stdout",
          "text": [
            "True\n"
          ]
        }
      ]
    },
    {
      "cell_type": "markdown",
      "source": [
        " 26. Write a code to create a list, a tuple, and a dictionary, and print them all.\n"
      ],
      "metadata": {
        "id": "_3O0dkTVS_0g"
      }
    },
    {
      "cell_type": "code",
      "source": [
        "my_list = [1, 2, 3]\n",
        "my_tuple = (4, 5, 6)\n",
        "my_dict = {\"a\": 10, \"b\": 20}\n",
        "print(my_list)\n",
        "print(my_tuple)\n",
        "print(my_dict)"
      ],
      "metadata": {
        "id": "ox8CIywiUNFp",
        "colab": {
          "base_uri": "https://localhost:8080/"
        },
        "outputId": "b6fb1cb3-0721-459c-e7c7-61e2091c6d0f"
      },
      "execution_count": 34,
      "outputs": [
        {
          "output_type": "stream",
          "name": "stdout",
          "text": [
            "[1, 2, 3]\n",
            "(4, 5, 6)\n",
            "{'a': 10, 'b': 20}\n"
          ]
        }
      ]
    },
    {
      "cell_type": "markdown",
      "source": [
        " 27. Write a code to create a list of 5 random numbers between 1 and 100, sort it in ascending order, and print the result.(replaced)"
      ],
      "metadata": {
        "id": "_5yTu3XJS3rj"
      }
    },
    {
      "cell_type": "code",
      "source": [
        "import random\n",
        "\n",
        "# Create a list of 5 random numbers between 1 and 100\n",
        "numbers = [random.randint(1, 100) for _ in range(5)]\n",
        "\n",
        "# Sort the list in ascending order\n",
        "numbers.sort()\n",
        "\n",
        "# Print the result\n",
        "print(numbers)\n"
      ],
      "metadata": {
        "id": "lZ2d0P7aUNgr",
        "colab": {
          "base_uri": "https://localhost:8080/"
        },
        "outputId": "ac675080-88e8-4df8-9e76-38fbf12dc30c"
      },
      "execution_count": 108,
      "outputs": [
        {
          "output_type": "stream",
          "name": "stdout",
          "text": [
            "[4, 41, 54, 84, 99]\n"
          ]
        }
      ]
    },
    {
      "cell_type": "markdown",
      "source": [
        "28. Write a code to create a list with strings and print the element at the third index."
      ],
      "metadata": {
        "id": "GcJNCx0oS2gQ"
      }
    },
    {
      "cell_type": "code",
      "source": [
        "words = [\"apple\", \"banana\", \"cherry\", \"date\", \"fig\"]\n",
        "print(words[3])"
      ],
      "metadata": {
        "id": "1EjyEyLdUOGr",
        "colab": {
          "base_uri": "https://localhost:8080/"
        },
        "outputId": "55bc78c5-4525-4f94-8770-9f76606057ba"
      },
      "execution_count": 109,
      "outputs": [
        {
          "output_type": "stream",
          "name": "stdout",
          "text": [
            "date\n"
          ]
        }
      ]
    },
    {
      "cell_type": "markdown",
      "source": [
        " 29. Write a code to combine two dictionaries into one and print the result.\n"
      ],
      "metadata": {
        "id": "QBOdreUeYCCq"
      }
    },
    {
      "cell_type": "code",
      "source": [
        "dict1 = {\"a\": 1, \"b\": 2}\n",
        "dict2 = {\"c\": 3, \"d\": 4}\n",
        "combined = {**dict1,**dict2}\n",
        "print(combined)"
      ],
      "metadata": {
        "colab": {
          "base_uri": "https://localhost:8080/"
        },
        "id": "HR7M_S84YDj9",
        "outputId": "639beeca-7da3-4ae1-eb85-e8f867533a1c"
      },
      "execution_count": 113,
      "outputs": [
        {
          "output_type": "stream",
          "name": "stdout",
          "text": [
            "{'a': 1, 'b': 2, 'c': 3, 'd': 4}\n"
          ]
        }
      ]
    },
    {
      "cell_type": "markdown",
      "source": [
        " 30. Write a code to convert a list of strings into a set."
      ],
      "metadata": {
        "id": "h9t3mSIeYD5D"
      }
    },
    {
      "cell_type": "code",
      "source": [
        "string_list = [\"apple\", \"banana\", \"cherry\"]\n",
        "string_set = set(string_list)\n",
        "print(string_set)"
      ],
      "metadata": {
        "colab": {
          "base_uri": "https://localhost:8080/"
        },
        "id": "NavdupM3YE5L",
        "outputId": "5970dd01-5555-4247-f173-5bef6e85acf8"
      },
      "execution_count": 115,
      "outputs": [
        {
          "output_type": "stream",
          "name": "stdout",
          "text": [
            "{'banana', 'apple', 'cherry'}\n"
          ]
        }
      ]
    }
  ]
}