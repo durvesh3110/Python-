{
  "nbformat": 4,
  "nbformat_minor": 0,
  "metadata": {
    "colab": {
      "provenance": []
    },
    "kernelspec": {
      "name": "python3",
      "display_name": "Python 3"
    },
    "language_info": {
      "name": "python"
    }
  },
  "cells": [
    {
      "cell_type": "code",
      "execution_count": null,
      "metadata": {
        "id": "niKLKSpgrhsk"
      },
      "outputs": [],
      "source": []
    },
    {
      "cell_type": "markdown",
      "source": [
        "# ***`Theroy Questions`***"
      ],
      "metadata": {
        "id": "HXbNlk6BxFIC"
      }
    },
    {
      "cell_type": "markdown",
      "source": [
        "\n",
        "1. What is python, why is it popular ?\n",
        "\n",
        "    - Python is a High Level programming language, it is mostly used in developing AI and Machine Learning\n",
        "    - It is popular due to this:\n",
        "\n",
        "      i. **Easy to Learn** - It is easy to learn and understand, it has simple structure and it's syntax are too user-friendly to use.\n",
        "\n",
        "      ii. **Versatile** - It is used for many purposes such as Machine Learning, AI development, Robotics, Automations, Web Development etc.\n",
        "\n",
        "      iii. **Extensive Libraries** - There are large numbers of libraries in python to use. For multiple operations there are multiple libraries are available.\n",
        "\n",
        "      iv. **Community Support** - Python has one of the largest programming communities, meaning you can easily find tutorials, Q&A forums, and third-party packages.\n",
        "\n",
        "      v. **Portability** - Python is portable with multiple operating systems and it can run on platforms.\n",
        "---\n",
        "\n",
        "2. What is an interpreter in Python ?\n",
        "\n",
        "    -  In Python, an interpreter is the program that reads and executes your Python code line by line, converting it into instructions that your computer can understand.\n",
        "---\n",
        "\n",
        "3. What are pre-defined keywords in Python ?\n",
        "\n",
        "    - In Python, pre-defined keywords are reserved words that have special meaning in the language.They are built into Python and cannot be used as variable names, function names, or identifiers because Python uses them to define its own syntax and rules.\n",
        "\n",
        "    - Keywords are as follow:\n",
        "\n",
        "        i. Control flow: if, else, elif, for, while, break, continue\n",
        "\n",
        "        ii. Function & class definitions: def, class, return, yield\n",
        "\n",
        "        iii. Logical operators: and, or, not, is, in\n",
        "\n",
        "        iv. Data handling: True, False, None\n",
        "\n",
        "        v. Exception handling: try, except, finally, raise\n",
        "\n",
        "---\n",
        "\n",
        "4.  Can keywords be used as variable names ?\n",
        "\n",
        "    - No, keywords cannot be used as variable names in Python.\n",
        "\n",
        "        They are reserved words that Python uses for its own syntax, so if you try to use them as variable names, you will get a SyntaxError.\n",
        "\n",
        "---\n",
        "\n",
        "5.  What is mutability in Python ?\n",
        "\n",
        "    - Mutability in Python means once the value of object is defined it cannot be change.\n",
        "\n",
        "    - Mutable objects can be changed without creating a new object, efficient for large datasets but riskier if you don't want data changed unexpectedly.\n",
        "\n",
        "---\n",
        "\n",
        "6. Why are lists mutable, but tuples are immutable ?\n",
        "\n",
        "    - Stores elements in a way that allows changes — you can add, remove, or replace items without creating a new object. Internally, Python keeps some extra space in lists to allow growth without reallocating memory every time.\n",
        "\n",
        "    - Stored in a fixed-size block of memory. No extra space for adding or changing elements, so modifying would require creating a completely new object — which Python simply disallows.\n",
        "\n",
        "---\n",
        "\n",
        "7.  What is the difference between “==” and “is” operators in Python ?\n",
        "\n",
        "     i. Equality Operator (==)\n",
        "      - Checks if the values are the same, regardless of whether they are stored in the same place in memory.\n",
        "\n",
        "    ii. Identify Operator ( is )\n",
        "      - Checks if two variables refer to the exact same object in memory (same memory address).\n",
        "\n",
        "---\n",
        "8.  What are logical operators in Python ?\n",
        "\n",
        "    - Logical operators in Python are used to combine or compare Boolean values (True or False) and make decisions in your code.\n",
        "\n",
        "      i. and\n",
        "      - Returns True if both conditions are True.\n",
        "      - Example: (5 > 3) and (10 > 5) → True\n",
        "\n",
        "      ii. or\n",
        "      - Returns True if at least one condition is True\n",
        "      - Example: (5 > 3) or (10 < 5) → True\n",
        "\n",
        "      iii. not\n",
        "      - Returns the opposite of the condition is Boolean value\n",
        "      - Example: not (5 > 3) → False\n",
        "\n",
        "---\n",
        "\n",
        "\n",
        "9. What is type casting in Python ?\n",
        "\n",
        "    - Type casting in Python means converting a value from one data type to another. It is useful when you want to ensure variables are in the right format for calculations, comparisons, or storage.\n",
        "\n",
        "    - Types of type casting:\n",
        "\n",
        "      i. int() - Convert to integer\n",
        "\n",
        "      ii. float() - Convert to floating-point number\n",
        "\n",
        "      iii. str() - Convert to string\n",
        "\n",
        "      iv. list(), tuple(), set() - Convert to those collection types\n",
        "\n",
        "    - Example:\n",
        "\n",
        "      x = \"123\"\n",
        "      \n",
        "      y = int(x)   # Convert string to integer\n",
        "\n",
        "      print(y + 5)  # Output: 128\n",
        "\n",
        "\n",
        "---\n",
        "\n",
        "10. What is the difference between implicit and explicit type casting ?\n",
        "\n",
        "    i. implicit type\n",
        "      - Done automatically by Python.\n",
        "      - Happens when Python converts one data type to another to avoid data loss during operations.\n",
        "      - Usually occurs in numeric operations (e.g., int to float).\n",
        "\n",
        "      - Example:\n",
        "\n",
        "      a = 5       # int\n",
        "      \n",
        "      b = 2.0     # float\n",
        "      \n",
        "      result = a + b   # Python converts 'a' to float automatically\n",
        "      \n",
        "      print(result)    # 7.0\n",
        "\n",
        "    ii. explicit type\n",
        "      - Done manually by the programmer using built-in functions like int(), float(), str(), list(), etc.\n",
        "\n",
        "      - You decide what type you want, regardless of what Python would choose automatically.\n",
        "\n",
        "      - Example:\n",
        "\n",
        "      x = \"123\"\n",
        "      \n",
        "      y = int(x)   # Convert string to integer\n",
        "\n",
        "      print(y + 5)  # Output: 128\n",
        "---\n",
        "\n",
        "11. What is the purpose of conditional statements in Python ?\n",
        "\n",
        "    - The purpose of conditional statements in Python is to let your program make decisions and execute different blocks of code depending on whether a condition is True or False.\n",
        "\n",
        "    - Types of Conditional Statements in Python:\n",
        "\n",
        "      i. if -  Runs a block of code if a condition is True\n",
        "\n",
        "      ii. elif - Checks another condition if previous ones are False\n",
        "\n",
        "      iii. else - Runs a block if all previous conditions are False\n",
        "\n",
        "---\n",
        "\n",
        "12.  How does the elif statement work ?\n",
        "\n",
        "    - The elif statement in Python stands for “else if” and is used when you want to check multiple conditions in sequence.\n",
        "\n",
        "    - How it works:\n",
        "      \n",
        "      - Python checks the first if condition. If it is True, that block runs, and the rest are skipped.\n",
        "\n",
        "      - If the if is False, Python checks the elif conditions in order.\n",
        "\n",
        "      - The first elif that is True will run its block — then Python stops checking the rest.\n",
        "\n",
        "      - If none of the if or elif conditions are True, the optional else block runs.\n",
        "\n",
        "---\n",
        "\n",
        "13. What is the difference between for and while loops ?\n",
        "\n",
        "    i. for loop\n",
        "\n",
        "      - Used when you know exactly how many times you want to loop or when you are iterating over a sequence (like a list, string, or range).\n",
        "\n",
        "      - Loops through each item in a collection.\n",
        "\n",
        "    ii. while loop\n",
        "\n",
        "      - Used when you don't know in advance how many times you need to loop — it keeps running as long as a condition is True.\n",
        "\n",
        "      - Condition is checked before every iteration.\n",
        "\n",
        "---\n",
        "\n",
        "14.  Describe a scenario where a while loop is more suitable than a for loop ?\n",
        "\n",
        "    - A while loop is more suitable when you don't know in advance how many times the loop needs to run — you just keep going until a certain condition changes.\n",
        "\n",
        "    - Scenario Example: ATM PIN Verification\n",
        "      \n",
        "      - Imagine you are programming an ATM that keeps asking the user to enter their PIN until they get it right.\n",
        "\n",
        "-x-x-x-x-x-x-x-x-x-x-x-x-x-x-x-x-x-x-x-x-x-x-x-x-x-x-x-x-x-x-x-x-x-x-x-x-x-x-x-x-x-x-x-x-x-x-x-x-x-x-x-x-x-x-x-x-x-x-x-x-x-x-x-x-x-x-x-x-x-x-x-x-x-x-x-x-x-x-x-x-\n",
        "\n",
        "-x-x-x-x-x-x-x-x-x-x-x-x-x-x-x-x-x-x-x-x-x-x-x-x-x-x-x-x-x-x-x-x-x-x-x-x-x-x-x-x-x-x-x-x-x-x-x-x-x-x-x-x-x-x-x-x-x-x-x-x-x-x-x-x-x-x-x-x-x-x-x-x-x-x-x-x-x-x-x-x-"
      ],
      "metadata": {
        "id": "_XavecLztGhB"
      }
    },
    {
      "cell_type": "markdown",
      "source": [
        "# ***Practical Questions***"
      ],
      "metadata": {
        "id": "PktgthkaR1qR"
      }
    },
    {
      "cell_type": "markdown",
      "source": [
        "1. Write a Python program to print \"Hello, World!\""
      ],
      "metadata": {
        "id": "SeaD5fcfSsrS"
      }
    },
    {
      "cell_type": "code",
      "source": [
        "# print Hello World !\n",
        "\n",
        "print(\"Hello World !\")"
      ],
      "metadata": {
        "colab": {
          "base_uri": "https://localhost:8080/"
        },
        "id": "2bqOzyOeSRRr",
        "outputId": "aad33b07-892d-402f-8343-7f814116f9a0"
      },
      "execution_count": 1,
      "outputs": [
        {
          "output_type": "stream",
          "name": "stdout",
          "text": [
            "Hello World !\n"
          ]
        }
      ]
    },
    {
      "cell_type": "markdown",
      "source": [
        "2. Write a Python program that displays your name and age."
      ],
      "metadata": {
        "id": "ER0oVzkqUC9-"
      }
    },
    {
      "cell_type": "code",
      "source": [
        "\n",
        "name = input(\"Enter your name: \")   # Take name from user\n",
        "age = input(\"Enter your age: \")     # Take age from user\n",
        "\n",
        "print(f\"Your name is {name} and your age is {age}\")     #result"
      ],
      "metadata": {
        "colab": {
          "base_uri": "https://localhost:8080/"
        },
        "id": "u6LiZCawUI6J",
        "outputId": "c742db7a-2a9b-40af-b720-cbe39e95b368"
      },
      "execution_count": 3,
      "outputs": [
        {
          "output_type": "stream",
          "name": "stdout",
          "text": [
            "Enter your name: Durvesh\n",
            "Enter your age: 21\n",
            "Your name is Durvesh and your age is 21\n"
          ]
        }
      ]
    },
    {
      "cell_type": "markdown",
      "source": [
        "3.  Write code to print all the pre-defined keywords in Python using the keyword library."
      ],
      "metadata": {
        "id": "Arpjk-QxVEOi"
      }
    },
    {
      "cell_type": "code",
      "source": [
        "# print all keywords\n",
        "\n",
        "import keyword\n",
        "\n",
        "print(keyword.kwlist)"
      ],
      "metadata": {
        "colab": {
          "base_uri": "https://localhost:8080/"
        },
        "id": "1p-1695xVLks",
        "outputId": "c2d93885-d981-44b8-e3e1-1545cc31b2c1"
      },
      "execution_count": 6,
      "outputs": [
        {
          "output_type": "stream",
          "name": "stdout",
          "text": [
            "['False', 'None', 'True', 'and', 'as', 'assert', 'async', 'await', 'break', 'class', 'continue', 'def', 'del', 'elif', 'else', 'except', 'finally', 'for', 'from', 'global', 'if', 'import', 'in', 'is', 'lambda', 'nonlocal', 'not', 'or', 'pass', 'raise', 'return', 'try', 'while', 'with', 'yield']\n"
          ]
        }
      ]
    },
    {
      "cell_type": "markdown",
      "source": [
        "4. Write a program that checks if a given word is a Python keyword."
      ],
      "metadata": {
        "id": "5GyNy5zNV1CS"
      }
    },
    {
      "cell_type": "code",
      "source": [
        "\n",
        "import keyword\n",
        "\n",
        "word = input(\"Enter a word: \")\n",
        "\n",
        "if keyword.iskeyword(word):\n",
        "    print(f\"{word} is a Python keyword.\")\n",
        "else:\n",
        "    print(f\"{word} is not a Python keyword.\")"
      ],
      "metadata": {
        "colab": {
          "base_uri": "https://localhost:8080/"
        },
        "id": "hRPiUgSBV6Oy",
        "outputId": "52b6da1b-5498-4f13-ba19-47d496db2c68"
      },
      "execution_count": 11,
      "outputs": [
        {
          "output_type": "stream",
          "name": "stdout",
          "text": [
            "Enter a word: True\n",
            "True is a Python keyword.\n"
          ]
        }
      ]
    },
    {
      "cell_type": "markdown",
      "source": [
        "5. Create a list and tuple in Python, and demonstrate how attempting to change an element works differently\n",
        "for each."
      ],
      "metadata": {
        "id": "dCmRzkRLWYY1"
      }
    },
    {
      "cell_type": "code",
      "source": [
        "# Orginal List\n",
        "\n",
        "num_list = [1,3,5,7,9]\n",
        "print(\"Original List: \",num_list)\n",
        "\n",
        "# Changing a first element of the list\n",
        "\n",
        "num_list[0] = 22\n",
        "print(\"/nChanged List: \",num_list)\n",
        "\n",
        "print(\"=\" * 80)\n",
        "\n",
        "# Tuples list\n",
        "\n",
        "tup_list = (1,3,5,7,9)\n",
        "print(\"/nOriginal Tuple: \",tup_list)\n",
        "\n",
        "# Changing a first element of the tuple\n",
        "\n",
        "tup_list[0] = 48\n",
        "print(\"/nChanged Tuple: \",tup_list)\n",
        "\n",
        "try:\n",
        "  tup_list[0] = 48\n",
        "except TypeError as e:\n",
        "  print(\"/nTuples are immutable \",e)"
      ],
      "metadata": {
        "colab": {
          "base_uri": "https://localhost:8080/",
          "height": 280
        },
        "id": "cL3muxrBWcBT",
        "outputId": "6e172989-af9d-42de-d426-3730fb843705"
      },
      "execution_count": 16,
      "outputs": [
        {
          "output_type": "stream",
          "name": "stdout",
          "text": [
            "Original List:  [1, 3, 5, 7, 9]\n",
            "/nChanged List:  [22, 3, 5, 7, 9]\n",
            "================================================================================\n",
            "/nOriginal Tuple:  (1, 3, 5, 7, 9)\n"
          ]
        },
        {
          "output_type": "error",
          "ename": "TypeError",
          "evalue": "'tuple' object does not support item assignment",
          "traceback": [
            "\u001b[0;31m---------------------------------------------------------------------------\u001b[0m",
            "\u001b[0;31mTypeError\u001b[0m                                 Traceback (most recent call last)",
            "\u001b[0;32m/tmp/ipython-input-93608048.py\u001b[0m in \u001b[0;36m<cell line: 0>\u001b[0;34m()\u001b[0m\n\u001b[1;32m     18\u001b[0m \u001b[0;31m# Changing a first element of the tuple\u001b[0m\u001b[0;34m\u001b[0m\u001b[0;34m\u001b[0m\u001b[0m\n\u001b[1;32m     19\u001b[0m \u001b[0;34m\u001b[0m\u001b[0m\n\u001b[0;32m---> 20\u001b[0;31m \u001b[0mtup_list\u001b[0m\u001b[0;34m[\u001b[0m\u001b[0;36m0\u001b[0m\u001b[0;34m]\u001b[0m \u001b[0;34m=\u001b[0m \u001b[0;36m48\u001b[0m\u001b[0;34m\u001b[0m\u001b[0;34m\u001b[0m\u001b[0m\n\u001b[0m\u001b[1;32m     21\u001b[0m \u001b[0mprint\u001b[0m\u001b[0;34m(\u001b[0m\u001b[0;34m\"/nChanged Tuple: \"\u001b[0m\u001b[0;34m,\u001b[0m\u001b[0mtup_list\u001b[0m\u001b[0;34m)\u001b[0m\u001b[0;34m\u001b[0m\u001b[0;34m\u001b[0m\u001b[0m\n\u001b[1;32m     22\u001b[0m \u001b[0;34m\u001b[0m\u001b[0m\n",
            "\u001b[0;31mTypeError\u001b[0m: 'tuple' object does not support item assignment"
          ]
        }
      ]
    },
    {
      "cell_type": "markdown",
      "source": [
        "6. Write a function to demonstrate the behavior of mutable and immutable arguments."
      ],
      "metadata": {
        "id": "K3cP0sj6YynG"
      }
    },
    {
      "cell_type": "code",
      "source": [
        " # Function to modify arguments\n",
        "def modify_values(num, items):\n",
        "    # Trying to change the immutable argument\n",
        "    num += 10      # This creates a new integer (does not affect the original)\n",
        "\n",
        "    # Trying to change the mutable argument\n",
        "    items.append(99)  # This modifies the original list in place\n",
        "\n",
        "    print(\"Inside function - num:\", num)\n",
        "    print(\"Inside function - items:\", items)\n",
        "\n",
        "\n",
        "# Immutable argument (integer)\n",
        "x = 5\n",
        "\n",
        "# Mutable argument (list)\n",
        "my_list = [1, 2, 3]\n",
        "\n",
        "print(\"Before function call - x:\", x)\n",
        "print(\"Before function call - my_list:\", my_list)\n",
        "\n",
        "# Call the function\n",
        "modify_values(x, my_list)\n",
        "\n",
        "print(\"\\nAfter function call - x:\", x)           # Unchanged\n",
        "print(\"After function call - my_list:\", my_list)  # Changed\n"
      ],
      "metadata": {
        "colab": {
          "base_uri": "https://localhost:8080/"
        },
        "id": "nsHhg-9qY6Yz",
        "outputId": "00982e0d-bf99-4ff7-e21a-c6d9ae23af2a"
      },
      "execution_count": 17,
      "outputs": [
        {
          "output_type": "stream",
          "name": "stdout",
          "text": [
            "Before function call - x: 5\n",
            "Before function call - my_list: [1, 2, 3]\n",
            "Inside function - num: 15\n",
            "Inside function - items: [1, 2, 3, 99]\n",
            "\n",
            "After function call - x: 5\n",
            "After function call - my_list: [1, 2, 3, 99]\n"
          ]
        }
      ]
    },
    {
      "cell_type": "markdown",
      "source": [
        "7. Write a program that performs basic arithmetic operations on two user-input numbers."
      ],
      "metadata": {
        "id": "alFCNiXHaCfd"
      }
    },
    {
      "cell_type": "code",
      "source": [
        "# Accept 2 numbers from user\n",
        "\n",
        "n1 = int(input(\"Enter first number: \"))\n",
        "n2 = int(input(\"Enter secnd number: \"))\n",
        "\n",
        "print(f\"Addition of {n1} and {n2} is {n1 + n2}\")\n",
        "print(f\"Subtraction of {n1} and {n2} is {n1 - n2}\")\n",
        "print(f\"Multiplication of {n1} and {n2} is {n1 * n2}\")\n",
        "print(f\"Division of {n1} and {n2} is {n1 / n2}\")"
      ],
      "metadata": {
        "colab": {
          "base_uri": "https://localhost:8080/"
        },
        "id": "5TenhM3maIqt",
        "outputId": "b502af7b-17b9-441c-a39a-d2882505c378"
      },
      "execution_count": 18,
      "outputs": [
        {
          "output_type": "stream",
          "name": "stdout",
          "text": [
            "Enter first number: 31\n",
            "Enter secnd number: 10\n",
            "Addition of 31 and 10 is 41\n",
            "Subtraction of 31 and 10 is 21\n",
            "Multiplication of 31 and 10 is 310\n",
            "Division of 31 and 10 is 3.1\n"
          ]
        }
      ]
    },
    {
      "cell_type": "markdown",
      "source": [
        "8. Write a program to demonstrate the use of logical operators."
      ],
      "metadata": {
        "id": "tixBc2TkaCTC"
      }
    },
    {
      "cell_type": "code",
      "source": [
        "# Demonstrating logical operators in Python\n",
        "\n",
        "x = 10\n",
        "y = 5\n",
        "z = 0\n",
        "\n",
        "print(\"x =\", x, \"y =\", y, \"z =\", z)\n",
        "\n",
        "# AND operator\n",
        "print(\"\\nAND operator examples:\")\n",
        "print(x > y and y > z)    # True and True → True\n",
        "print(x < y and y > z)    # False and True → False\n",
        "\n",
        "# OR operator\n",
        "print(\"\\nOR operator examples:\")\n",
        "print(x > y or y < z)     # True or False → True\n",
        "print(x < y or y < z)     # False or False → False\n",
        "\n",
        "# NOT operator\n",
        "print(\"\\nNOT operator examples:\")\n",
        "print(not(x > y))         # not(True) → False\n",
        "print(not(z))             # not(0) → True (0 is falsy)\n"
      ],
      "metadata": {
        "colab": {
          "base_uri": "https://localhost:8080/"
        },
        "id": "XzG4Gri0aJlv",
        "outputId": "c58e0c37-7ccc-47d5-d025-ec23b7a6b029"
      },
      "execution_count": 19,
      "outputs": [
        {
          "output_type": "stream",
          "name": "stdout",
          "text": [
            "x = 10 y = 5 z = 0\n",
            "\n",
            "AND operator examples:\n",
            "True\n",
            "False\n",
            "\n",
            "OR operator examples:\n",
            "True\n",
            "False\n",
            "\n",
            "NOT operator examples:\n",
            "False\n",
            "True\n"
          ]
        }
      ]
    },
    {
      "cell_type": "markdown",
      "source": [
        "9. Write a Python program to convert user input from string to integer, float, and boolean types."
      ],
      "metadata": {
        "id": "uxgh4HGmaCHG"
      }
    },
    {
      "cell_type": "code",
      "source": [
        "# Get input from the user\n",
        "user_input = input(\"Enter a value: \")\n",
        "\n",
        "# Convert to integer\n",
        "try:\n",
        "    int_value = int(user_input)\n",
        "    print(\"Integer value:\", int_value)\n",
        "except ValueError:\n",
        "    print(\"Cannot convert to integer.\")\n",
        "\n",
        "# Convert to float\n",
        "try:\n",
        "    float_value = float(user_input)\n",
        "    print(\"Float value:\", float_value)\n",
        "except ValueError:\n",
        "    print(\"Cannot convert to float.\")\n",
        "\n",
        "# Convert to boolean\n",
        "# In Python, any non-empty string is True, empty string is False\n",
        "bool_value = bool(user_input)\n",
        "print(\"Boolean value:\", bool_value)\n"
      ],
      "metadata": {
        "colab": {
          "base_uri": "https://localhost:8080/"
        },
        "id": "1nCYPA1zaKY3",
        "outputId": "5e073ea6-e4f6-4389-ef83-341a77cf9359"
      },
      "execution_count": 20,
      "outputs": [
        {
          "output_type": "stream",
          "name": "stdout",
          "text": [
            "Enter a value: 21\n",
            "Integer value: 21\n",
            "Float value: 21.0\n",
            "Boolean value: True\n"
          ]
        }
      ]
    },
    {
      "cell_type": "markdown",
      "source": [
        "10. Write code to demonstrate type casting with list elements.\n",
        ""
      ],
      "metadata": {
        "id": "_NdsssSLaB7Y"
      }
    },
    {
      "cell_type": "code",
      "source": [
        "# Original list of string numbers\n",
        "str_numbers = [\"10\", \"20\", \"30\", \"40\"]\n",
        "\n",
        "print(\"Original list (strings):\", str_numbers)\n",
        "\n",
        "# Convert each element to integer\n",
        "int_numbers = [int(num) for num in str_numbers]\n",
        "print(\"List after casting to integers:\", int_numbers)\n",
        "\n",
        "# Convert each element to float\n",
        "float_numbers = [float(num) for num in str_numbers]\n",
        "print(\"List after casting to floats:\", float_numbers)\n",
        "\n",
        "# Convert each element back to string (from integers)\n",
        "string_numbers = [str(num) for num in int_numbers]\n",
        "print(\"List after casting back to strings:\", string_numbers)\n"
      ],
      "metadata": {
        "colab": {
          "base_uri": "https://localhost:8080/"
        },
        "id": "rTjGS2qwaK_T",
        "outputId": "181dc42b-269b-4d21-9a93-cad8254014c8"
      },
      "execution_count": 21,
      "outputs": [
        {
          "output_type": "stream",
          "name": "stdout",
          "text": [
            "Original list (strings): ['10', '20', '30', '40']\n",
            "List after casting to integers: [10, 20, 30, 40]\n",
            "List after casting to floats: [10.0, 20.0, 30.0, 40.0]\n",
            "List after casting back to strings: ['10', '20', '30', '40']\n"
          ]
        }
      ]
    },
    {
      "cell_type": "markdown",
      "source": [
        " 11. Write a program that checks if a number is positive, negative, or zero.\n"
      ],
      "metadata": {
        "id": "j-ZAEo5IaBuy"
      }
    },
    {
      "cell_type": "code",
      "source": [
        "# Get user input\n",
        "num = float(input(\"Enter a number: \"))\n",
        "\n",
        "# Check conditions\n",
        "if num > 0:\n",
        "    print(\"The number is positive.\")\n",
        "elif num < 0:\n",
        "    print(\"The number is negative.\")\n",
        "else:\n",
        "    print(\"The number is zero.\")\n"
      ],
      "metadata": {
        "colab": {
          "base_uri": "https://localhost:8080/"
        },
        "id": "TbjALeqeaL5o",
        "outputId": "e7ec31be-4b06-453c-b544-0191ca720703"
      },
      "execution_count": 22,
      "outputs": [
        {
          "output_type": "stream",
          "name": "stdout",
          "text": [
            "Enter a number: 21\n",
            "The number is positive.\n"
          ]
        }
      ]
    },
    {
      "cell_type": "markdown",
      "source": [
        "12. Write a for loop to print numbers from 1 to 10.\n"
      ],
      "metadata": {
        "id": "12zw4VqoaBgh"
      }
    },
    {
      "cell_type": "code",
      "source": [
        "# Print numbers from 1 to 10\n",
        "for i in range(1, 11):\n",
        "    print(i)\n"
      ],
      "metadata": {
        "colab": {
          "base_uri": "https://localhost:8080/"
        },
        "id": "C5TARomxaMjc",
        "outputId": "874913bd-27e6-4d55-85bb-056c51162097"
      },
      "execution_count": 23,
      "outputs": [
        {
          "output_type": "stream",
          "name": "stdout",
          "text": [
            "1\n",
            "2\n",
            "3\n",
            "4\n",
            "5\n",
            "6\n",
            "7\n",
            "8\n",
            "9\n",
            "10\n"
          ]
        }
      ]
    },
    {
      "cell_type": "markdown",
      "source": [
        " 13. Write a Python program to find the sum of all even numbers between 1 and 50.\n",
        ""
      ],
      "metadata": {
        "id": "GauvYslPaA68"
      }
    },
    {
      "cell_type": "code",
      "source": [
        "# Initialize sum variable\n",
        "total = 0\n",
        "\n",
        "# Loop through numbers from 1 to 50\n",
        "for i in range(1, 51):\n",
        "    if i % 2 == 0:  # Check if the number is even\n",
        "        total += i\n",
        "\n",
        "# Display the result\n",
        "print(\"Sum of even numbers between 1 and 50 is:\", total)\n"
      ],
      "metadata": {
        "colab": {
          "base_uri": "https://localhost:8080/"
        },
        "id": "4zeLus9iaNGy",
        "outputId": "43f89edb-d77f-4a7f-fb58-bd43bb2dd4e5"
      },
      "execution_count": 24,
      "outputs": [
        {
          "output_type": "stream",
          "name": "stdout",
          "text": [
            "Sum of even numbers between 1 and 50 is: 650\n"
          ]
        }
      ]
    },
    {
      "cell_type": "markdown",
      "source": [
        "14. Write a program to reverse a string using a while loop.\n"
      ],
      "metadata": {
        "id": "Kluph7L8aAcD"
      }
    },
    {
      "cell_type": "code",
      "source": [
        "# Get user input\n",
        "text = input(\"Enter a string: \")\n",
        "\n",
        "# Initialize variables\n",
        "reversed_text = \"\"\n",
        "index = len(text) - 1\n",
        "\n",
        "# Loop until index reaches the beginning\n",
        "while index >= 0:\n",
        "    reversed_text += text[index]\n",
        "    index -= 1\n",
        "\n",
        "# Display the reversed string\n",
        "print(\"Reversed string:\", reversed_text)\n"
      ],
      "metadata": {
        "colab": {
          "base_uri": "https://localhost:8080/"
        },
        "id": "tkbFXeAAaOCG",
        "outputId": "3e30561c-ec10-424f-e42b-bd60bab8e18e"
      },
      "execution_count": 25,
      "outputs": [
        {
          "output_type": "stream",
          "name": "stdout",
          "text": [
            "Enter a string: Durvesh\n",
            "Reversed string: hsevruD\n"
          ]
        }
      ]
    },
    {
      "cell_type": "markdown",
      "source": [
        " 15. Write a Python program to calculate the factorial of a number provided by the user using a while loop."
      ],
      "metadata": {
        "id": "LSvPrfZyZ_32"
      }
    },
    {
      "cell_type": "code",
      "source": [
        "# Get user input\n",
        "num = int(input(\"Enter a number: \"))\n",
        "\n",
        "# Initialize variables\n",
        "factorial = 1\n",
        "i = 1\n",
        "\n",
        "# Calculate factorial using while loop\n",
        "while i <= num:\n",
        "    factorial *= i\n",
        "    i += 1\n",
        "\n",
        "# Display the result\n",
        "print(f\"Factorial of {num} is {factorial}\")\n"
      ],
      "metadata": {
        "colab": {
          "base_uri": "https://localhost:8080/"
        },
        "id": "KUljXNLga17t",
        "outputId": "f0be78e8-4992-4ab3-e51b-a68233194cea"
      },
      "execution_count": 26,
      "outputs": [
        {
          "output_type": "stream",
          "name": "stdout",
          "text": [
            "Enter a number: 5\n",
            "Factorial of 5 is 120\n"
          ]
        }
      ]
    }
  ]
}